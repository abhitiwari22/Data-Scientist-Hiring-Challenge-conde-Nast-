{
  "nbformat": 4,
  "nbformat_minor": 0,
  "metadata": {
    "colab": {
      "name": "Untitled0.ipynb",
      "provenance": []
    },
    "kernelspec": {
      "name": "python3",
      "display_name": "Python 3"
    },
    "language_info": {
      "name": "python"
    },
    "accelerator": "GPU"
  },
  "cells": [
    {
      "cell_type": "code",
      "execution_count": null,
      "metadata": {
        "colab": {
          "base_uri": "https://localhost:8080/"
        },
        "id": "HEBpx0RWaH0M",
        "outputId": "0fb5672b-7ab9-4f8e-8a3a-d92ffe7cd220"
      },
      "outputs": [
        {
          "output_type": "stream",
          "name": "stdout",
          "text": [
            "Drive already mounted at /content/drive; to attempt to forcibly remount, call drive.mount(\"/content/drive\", force_remount=True).\n"
          ]
        }
      ],
      "source": [
        "from google.colab import drive\n",
        "drive.mount(\"/content/drive\")"
      ]
    },
    {
      "cell_type": "code",
      "source": [
        "import pandas as pd \n",
        "import numpy as np\n",
        "import seaborn as sns\n",
        "import matplotlib.pyplot as plt\n",
        "%matplotlib inline"
      ],
      "metadata": {
        "id": "wb2hQejWcYmd"
      },
      "execution_count": null,
      "outputs": []
    },
    {
      "cell_type": "code",
      "source": [
        "train= pd.read_csv(\"/content/drive/MyDrive/hacker_hiring/train.csv\")"
      ],
      "metadata": {
        "id": "0XtTdPc_crE3"
      },
      "execution_count": null,
      "outputs": []
    },
    {
      "cell_type": "code",
      "source": [
        "train.head()"
      ],
      "metadata": {
        "colab": {
          "base_uri": "https://localhost:8080/",
          "height": 322
        },
        "id": "sEhTpUVnc0gt",
        "outputId": "bde0a797-915c-483a-f584-8a610d8a4fc0"
      },
      "execution_count": null,
      "outputs": [
        {
          "output_type": "execute_result",
          "data": {
            "text/plain": [
              "    CustomerID   Age  Gender           City             State  \\\n",
              "0  CusID_00126  22.0    Male      Vancouver  British Columbia   \n",
              "1  CusID_00927   NaN  Female       Budapest   Central Hungary   \n",
              "2  CusID_01646  26.0    Male         Mumbai       Maharashtra   \n",
              "3  CusID_06228   NaN    Male  San Francisco        California   \n",
              "4  CusID_04239  29.0  Female         Taipei            Taiwan   \n",
              "\n",
              "   No_of_orders_placed Sign_up_date Last_order_placed_date  is_premium_member  \\\n",
              "0                  4.0   2017-06-23             2021-04-01                  0   \n",
              "1                  9.0   2018-05-21             2020-01-26                  0   \n",
              "2                  NaN   2019-02-15             2020-11-28                  0   \n",
              "3                  7.0   2019-07-18             2020-11-16                  0   \n",
              "4                  NaN   2018-02-05             2020-03-12                  0   \n",
              "\n",
              "   Women’s_Clothing  Men’s_Clothing  Kid’s_Clothing  Home_&_Living    Beauty  \\\n",
              "0          2.945701        8.924431        2.000000       2.325376  1.924891   \n",
              "1          6.115229        2.363926        6.968752       7.355854  8.561461   \n",
              "2          1.000000        3.000000        1.766530       3.471802  0.808147   \n",
              "3          2.116475        9.064060        5.387599            NaN  0.459090   \n",
              "4          7.352878        1.995744        2.676853       7.159554  8.184695   \n",
              "\n",
              "   Electronics Preferred_Theme  \n",
              "0     9.820254          New_UI  \n",
              "1     2.162229          Old_UI  \n",
              "2     9.055563          New_UI  \n",
              "3     7.343461          New_UI  \n",
              "4     2.000000          Old_UI  "
            ],
            "text/html": [
              "\n",
              "  <div id=\"df-49c25851-abc5-4715-a3c5-4c382abb2177\">\n",
              "    <div class=\"colab-df-container\">\n",
              "      <div>\n",
              "<style scoped>\n",
              "    .dataframe tbody tr th:only-of-type {\n",
              "        vertical-align: middle;\n",
              "    }\n",
              "\n",
              "    .dataframe tbody tr th {\n",
              "        vertical-align: top;\n",
              "    }\n",
              "\n",
              "    .dataframe thead th {\n",
              "        text-align: right;\n",
              "    }\n",
              "</style>\n",
              "<table border=\"1\" class=\"dataframe\">\n",
              "  <thead>\n",
              "    <tr style=\"text-align: right;\">\n",
              "      <th></th>\n",
              "      <th>CustomerID</th>\n",
              "      <th>Age</th>\n",
              "      <th>Gender</th>\n",
              "      <th>City</th>\n",
              "      <th>State</th>\n",
              "      <th>No_of_orders_placed</th>\n",
              "      <th>Sign_up_date</th>\n",
              "      <th>Last_order_placed_date</th>\n",
              "      <th>is_premium_member</th>\n",
              "      <th>Women’s_Clothing</th>\n",
              "      <th>Men’s_Clothing</th>\n",
              "      <th>Kid’s_Clothing</th>\n",
              "      <th>Home_&amp;_Living</th>\n",
              "      <th>Beauty</th>\n",
              "      <th>Electronics</th>\n",
              "      <th>Preferred_Theme</th>\n",
              "    </tr>\n",
              "  </thead>\n",
              "  <tbody>\n",
              "    <tr>\n",
              "      <th>0</th>\n",
              "      <td>CusID_00126</td>\n",
              "      <td>22.0</td>\n",
              "      <td>Male</td>\n",
              "      <td>Vancouver</td>\n",
              "      <td>British Columbia</td>\n",
              "      <td>4.0</td>\n",
              "      <td>2017-06-23</td>\n",
              "      <td>2021-04-01</td>\n",
              "      <td>0</td>\n",
              "      <td>2.945701</td>\n",
              "      <td>8.924431</td>\n",
              "      <td>2.000000</td>\n",
              "      <td>2.325376</td>\n",
              "      <td>1.924891</td>\n",
              "      <td>9.820254</td>\n",
              "      <td>New_UI</td>\n",
              "    </tr>\n",
              "    <tr>\n",
              "      <th>1</th>\n",
              "      <td>CusID_00927</td>\n",
              "      <td>NaN</td>\n",
              "      <td>Female</td>\n",
              "      <td>Budapest</td>\n",
              "      <td>Central Hungary</td>\n",
              "      <td>9.0</td>\n",
              "      <td>2018-05-21</td>\n",
              "      <td>2020-01-26</td>\n",
              "      <td>0</td>\n",
              "      <td>6.115229</td>\n",
              "      <td>2.363926</td>\n",
              "      <td>6.968752</td>\n",
              "      <td>7.355854</td>\n",
              "      <td>8.561461</td>\n",
              "      <td>2.162229</td>\n",
              "      <td>Old_UI</td>\n",
              "    </tr>\n",
              "    <tr>\n",
              "      <th>2</th>\n",
              "      <td>CusID_01646</td>\n",
              "      <td>26.0</td>\n",
              "      <td>Male</td>\n",
              "      <td>Mumbai</td>\n",
              "      <td>Maharashtra</td>\n",
              "      <td>NaN</td>\n",
              "      <td>2019-02-15</td>\n",
              "      <td>2020-11-28</td>\n",
              "      <td>0</td>\n",
              "      <td>1.000000</td>\n",
              "      <td>3.000000</td>\n",
              "      <td>1.766530</td>\n",
              "      <td>3.471802</td>\n",
              "      <td>0.808147</td>\n",
              "      <td>9.055563</td>\n",
              "      <td>New_UI</td>\n",
              "    </tr>\n",
              "    <tr>\n",
              "      <th>3</th>\n",
              "      <td>CusID_06228</td>\n",
              "      <td>NaN</td>\n",
              "      <td>Male</td>\n",
              "      <td>San Francisco</td>\n",
              "      <td>California</td>\n",
              "      <td>7.0</td>\n",
              "      <td>2019-07-18</td>\n",
              "      <td>2020-11-16</td>\n",
              "      <td>0</td>\n",
              "      <td>2.116475</td>\n",
              "      <td>9.064060</td>\n",
              "      <td>5.387599</td>\n",
              "      <td>NaN</td>\n",
              "      <td>0.459090</td>\n",
              "      <td>7.343461</td>\n",
              "      <td>New_UI</td>\n",
              "    </tr>\n",
              "    <tr>\n",
              "      <th>4</th>\n",
              "      <td>CusID_04239</td>\n",
              "      <td>29.0</td>\n",
              "      <td>Female</td>\n",
              "      <td>Taipei</td>\n",
              "      <td>Taiwan</td>\n",
              "      <td>NaN</td>\n",
              "      <td>2018-02-05</td>\n",
              "      <td>2020-03-12</td>\n",
              "      <td>0</td>\n",
              "      <td>7.352878</td>\n",
              "      <td>1.995744</td>\n",
              "      <td>2.676853</td>\n",
              "      <td>7.159554</td>\n",
              "      <td>8.184695</td>\n",
              "      <td>2.000000</td>\n",
              "      <td>Old_UI</td>\n",
              "    </tr>\n",
              "  </tbody>\n",
              "</table>\n",
              "</div>\n",
              "      <button class=\"colab-df-convert\" onclick=\"convertToInteractive('df-49c25851-abc5-4715-a3c5-4c382abb2177')\"\n",
              "              title=\"Convert this dataframe to an interactive table.\"\n",
              "              style=\"display:none;\">\n",
              "        \n",
              "  <svg xmlns=\"http://www.w3.org/2000/svg\" height=\"24px\"viewBox=\"0 0 24 24\"\n",
              "       width=\"24px\">\n",
              "    <path d=\"M0 0h24v24H0V0z\" fill=\"none\"/>\n",
              "    <path d=\"M18.56 5.44l.94 2.06.94-2.06 2.06-.94-2.06-.94-.94-2.06-.94 2.06-2.06.94zm-11 1L8.5 8.5l.94-2.06 2.06-.94-2.06-.94L8.5 2.5l-.94 2.06-2.06.94zm10 10l.94 2.06.94-2.06 2.06-.94-2.06-.94-.94-2.06-.94 2.06-2.06.94z\"/><path d=\"M17.41 7.96l-1.37-1.37c-.4-.4-.92-.59-1.43-.59-.52 0-1.04.2-1.43.59L10.3 9.45l-7.72 7.72c-.78.78-.78 2.05 0 2.83L4 21.41c.39.39.9.59 1.41.59.51 0 1.02-.2 1.41-.59l7.78-7.78 2.81-2.81c.8-.78.8-2.07 0-2.86zM5.41 20L4 18.59l7.72-7.72 1.47 1.35L5.41 20z\"/>\n",
              "  </svg>\n",
              "      </button>\n",
              "      \n",
              "  <style>\n",
              "    .colab-df-container {\n",
              "      display:flex;\n",
              "      flex-wrap:wrap;\n",
              "      gap: 12px;\n",
              "    }\n",
              "\n",
              "    .colab-df-convert {\n",
              "      background-color: #E8F0FE;\n",
              "      border: none;\n",
              "      border-radius: 50%;\n",
              "      cursor: pointer;\n",
              "      display: none;\n",
              "      fill: #1967D2;\n",
              "      height: 32px;\n",
              "      padding: 0 0 0 0;\n",
              "      width: 32px;\n",
              "    }\n",
              "\n",
              "    .colab-df-convert:hover {\n",
              "      background-color: #E2EBFA;\n",
              "      box-shadow: 0px 1px 2px rgba(60, 64, 67, 0.3), 0px 1px 3px 1px rgba(60, 64, 67, 0.15);\n",
              "      fill: #174EA6;\n",
              "    }\n",
              "\n",
              "    [theme=dark] .colab-df-convert {\n",
              "      background-color: #3B4455;\n",
              "      fill: #D2E3FC;\n",
              "    }\n",
              "\n",
              "    [theme=dark] .colab-df-convert:hover {\n",
              "      background-color: #434B5C;\n",
              "      box-shadow: 0px 1px 3px 1px rgba(0, 0, 0, 0.15);\n",
              "      filter: drop-shadow(0px 1px 2px rgba(0, 0, 0, 0.3));\n",
              "      fill: #FFFFFF;\n",
              "    }\n",
              "  </style>\n",
              "\n",
              "      <script>\n",
              "        const buttonEl =\n",
              "          document.querySelector('#df-49c25851-abc5-4715-a3c5-4c382abb2177 button.colab-df-convert');\n",
              "        buttonEl.style.display =\n",
              "          google.colab.kernel.accessAllowed ? 'block' : 'none';\n",
              "\n",
              "        async function convertToInteractive(key) {\n",
              "          const element = document.querySelector('#df-49c25851-abc5-4715-a3c5-4c382abb2177');\n",
              "          const dataTable =\n",
              "            await google.colab.kernel.invokeFunction('convertToInteractive',\n",
              "                                                     [key], {});\n",
              "          if (!dataTable) return;\n",
              "\n",
              "          const docLinkHtml = 'Like what you see? Visit the ' +\n",
              "            '<a target=\"_blank\" href=https://colab.research.google.com/notebooks/data_table.ipynb>data table notebook</a>'\n",
              "            + ' to learn more about interactive tables.';\n",
              "          element.innerHTML = '';\n",
              "          dataTable['output_type'] = 'display_data';\n",
              "          await google.colab.output.renderOutput(dataTable, element);\n",
              "          const docLink = document.createElement('div');\n",
              "          docLink.innerHTML = docLinkHtml;\n",
              "          element.appendChild(docLink);\n",
              "        }\n",
              "      </script>\n",
              "    </div>\n",
              "  </div>\n",
              "  "
            ]
          },
          "metadata": {},
          "execution_count": 4
        }
      ]
    },
    {
      "cell_type": "code",
      "source": [
        "train.info()"
      ],
      "metadata": {
        "colab": {
          "base_uri": "https://localhost:8080/"
        },
        "id": "A8mb5f9mc3Lg",
        "outputId": "81cac488-4ce4-41c6-bc39-14b049a4002e"
      },
      "execution_count": null,
      "outputs": [
        {
          "output_type": "stream",
          "name": "stdout",
          "text": [
            "<class 'pandas.core.frame.DataFrame'>\n",
            "RangeIndex: 15150 entries, 0 to 15149\n",
            "Data columns (total 16 columns):\n",
            " #   Column                  Non-Null Count  Dtype  \n",
            "---  ------                  --------------  -----  \n",
            " 0   CustomerID              15150 non-null  object \n",
            " 1   Age                     14147 non-null  float64\n",
            " 2   Gender                  15150 non-null  object \n",
            " 3   City                    15150 non-null  object \n",
            " 4   State                   15150 non-null  object \n",
            " 5   No_of_orders_placed     14377 non-null  float64\n",
            " 6   Sign_up_date            15150 non-null  object \n",
            " 7   Last_order_placed_date  15150 non-null  object \n",
            " 8   is_premium_member       15150 non-null  int64  \n",
            " 9   Women’s_Clothing        15150 non-null  float64\n",
            " 10  Men’s_Clothing          15150 non-null  float64\n",
            " 11  Kid’s_Clothing          14215 non-null  float64\n",
            " 12  Home_&_Living           14302 non-null  float64\n",
            " 13  Beauty                  15150 non-null  float64\n",
            " 14  Electronics             15150 non-null  float64\n",
            " 15  Preferred_Theme         15150 non-null  object \n",
            "dtypes: float64(8), int64(1), object(7)\n",
            "memory usage: 1.8+ MB\n"
          ]
        }
      ]
    },
    {
      "cell_type": "code",
      "source": [
        "train.isnull().sum()"
      ],
      "metadata": {
        "colab": {
          "base_uri": "https://localhost:8080/"
        },
        "id": "-Evp-5d1c94b",
        "outputId": "6d4f76da-de33-41fb-a4f0-acc04b938540"
      },
      "execution_count": null,
      "outputs": [
        {
          "output_type": "execute_result",
          "data": {
            "text/plain": [
              "CustomerID                   0\n",
              "Age                       1003\n",
              "Gender                       0\n",
              "City                         0\n",
              "State                        0\n",
              "No_of_orders_placed        773\n",
              "Sign_up_date                 0\n",
              "Last_order_placed_date       0\n",
              "is_premium_member            0\n",
              "Women’s_Clothing             0\n",
              "Men’s_Clothing               0\n",
              "Kid’s_Clothing             935\n",
              "Home_&_Living              848\n",
              "Beauty                       0\n",
              "Electronics                  0\n",
              "Preferred_Theme              0\n",
              "dtype: int64"
            ]
          },
          "metadata": {},
          "execution_count": 6
        }
      ]
    },
    {
      "cell_type": "code",
      "source": [
        "train[\"Age\"].value_counts()"
      ],
      "metadata": {
        "colab": {
          "base_uri": "https://localhost:8080/"
        },
        "id": "6MzeN3V_dHv7",
        "outputId": "1698423a-cfbe-42ef-8db6-62cbbdd0aef5"
      },
      "execution_count": null,
      "outputs": [
        {
          "output_type": "execute_result",
          "data": {
            "text/plain": [
              "31.0    920\n",
              "32.0    855\n",
              "30.0    815\n",
              "33.0    764\n",
              "29.0    679\n",
              "20.0    655\n",
              "28.0    636\n",
              "34.0    632\n",
              "23.0    619\n",
              "21.0    596\n",
              "27.0    581\n",
              "22.0    556\n",
              "35.0    522\n",
              "24.0    511\n",
              "19.0    496\n",
              "26.0    482\n",
              "25.0    462\n",
              "15.0    410\n",
              "18.0    359\n",
              "36.0    336\n",
              "17.0    294\n",
              "16.0    281\n",
              "37.0    274\n",
              "39.0    229\n",
              "38.0    214\n",
              "46.0    119\n",
              "45.0    116\n",
              "43.0    108\n",
              "42.0     93\n",
              "44.0     92\n",
              "48.0     83\n",
              "41.0     78\n",
              "40.0     77\n",
              "47.0     75\n",
              "50.0     66\n",
              "49.0     62\n",
              "Name: Age, dtype: int64"
            ]
          },
          "metadata": {},
          "execution_count": 7
        }
      ]
    },
    {
      "cell_type": "code",
      "source": [
        "train.shape"
      ],
      "metadata": {
        "colab": {
          "base_uri": "https://localhost:8080/"
        },
        "id": "Vj3u3aE2dQFa",
        "outputId": "dc4001b4-9770-406d-f3e8-1ad1beec5a54"
      },
      "execution_count": null,
      "outputs": [
        {
          "output_type": "execute_result",
          "data": {
            "text/plain": [
              "(15150, 16)"
            ]
          },
          "metadata": {},
          "execution_count": 8
        }
      ]
    },
    {
      "cell_type": "code",
      "source": [
        "train['Age'].fillna(train['Age'].mode()[0], inplace=True)\n",
        "\n",
        "train['No_of_orders_placed'].fillna(train['No_of_orders_placed'].mode()[0], inplace=True)\n",
        "\n",
        "train['Kid’s_Clothing'].fillna(train['Kid’s_Clothing'].mode()[0], inplace=True)\n",
        "\n",
        "train['Home_&_Living'].fillna(train['Home_&_Living'].mode()[0], inplace=True)"
      ],
      "metadata": {
        "id": "78is42YbfJQQ"
      },
      "execution_count": null,
      "outputs": []
    },
    {
      "cell_type": "code",
      "source": [
        "sns.boxplot(train[\"No_of_orders_placed\"])"
      ],
      "metadata": {
        "colab": {
          "base_uri": "https://localhost:8080/",
          "height": 352
        },
        "id": "xtgrzzR7f-m-",
        "outputId": "617e6cf1-3ffe-43b1-8cb1-6c7dd2dd74d3"
      },
      "execution_count": null,
      "outputs": [
        {
          "output_type": "stream",
          "name": "stderr",
          "text": [
            "/usr/local/lib/python3.7/dist-packages/seaborn/_decorators.py:43: FutureWarning: Pass the following variable as a keyword arg: x. From version 0.12, the only valid positional argument will be `data`, and passing other arguments without an explicit keyword will result in an error or misinterpretation.\n",
            "  FutureWarning\n"
          ]
        },
        {
          "output_type": "execute_result",
          "data": {
            "text/plain": [
              "<matplotlib.axes._subplots.AxesSubplot at 0x7ff2514e8e50>"
            ]
          },
          "metadata": {},
          "execution_count": 10
        },
        {
          "output_type": "display_data",
          "data": {
            "text/plain": [
              "<Figure size 432x288 with 1 Axes>"
            ],
            "image/png": "[encoded data removed]"
          },
          "metadata": {
            "needs_background": "light"
          }
        }
      ]
    },
    {
      "cell_type": "code",
      "source": [
        "train['Last_order_year']=train['Last_order_placed_date'].dt.year\n",
        "train['Last_order_Month']=train['Last_order_placed_date'].dt.month\n",
        "train['Last_order_day']=train['Last_order_placed_date'].dt.day"
      ],
      "metadata": {
        "id": "91DIgIAIgezp"
      },
      "execution_count": null,
      "outputs": []
    },
    {
      "cell_type": "code",
      "source": [
        "train=train.drop([\"Sign_up_date\"],axis=1)"
      ],
      "metadata": {
        "id": "rGxBUC_n-cQG"
      },
      "execution_count": null,
      "outputs": []
    },
    {
      "cell_type": "code",
      "source": [
        "train['Preferred_Theme']=train['Preferred_Theme'].map({'Old_UI':0,'New_UI':1})"
      ],
      "metadata": {
        "id": "SaE2IPfqge_j"
      },
      "execution_count": null,
      "outputs": []
    },
    {
      "cell_type": "code",
      "source": [
        "from sklearn.preprocessing import LabelEncoder\n",
        "# Use `LabelEncoder` to encode labels with value between 0 and n_classes-1.\n",
        "#City\n",
        "le = LabelEncoder()\n",
        "train['City'] = le.fit_transform(train['City'])\n",
        "#State\n",
        "train['State'] = le.fit_transform(train['State'])\n",
        "#Gender\n",
        "train['Gender'] = le.fit_transform(train['Gender'])"
      ],
      "metadata": {
        "id": "aDKfd6DNlqS5"
      },
      "execution_count": null,
      "outputs": []
    },
    {
      "cell_type": "code",
      "source": [
        "train.head()\n"
      ],
      "metadata": {
        "colab": {
          "base_uri": "https://localhost:8080/",
          "height": 270
        },
        "id": "BEoClf4zge-B",
        "outputId": "0345cb58-0713-4c6b-fe34-a38f40b74960"
      },
      "execution_count": null,
      "outputs": [
        {
          "output_type": "execute_result",
          "data": {
            "text/plain": [
              "    CustomerID   Age  Gender  City  State  No_of_orders_placed  \\\n",
              "0  CusID_00126  22.0       1    21      2                  4.0   \n",
              "1  CusID_00927  31.0       0     3      5                  9.0   \n",
              "2  CusID_01646  26.0       1    11      8                 10.0   \n",
              "3  CusID_06228  31.0       1    16      3                  7.0   \n",
              "4  CusID_04239  29.0       0    19     14                 10.0   \n",
              "\n",
              "  Last_order_placed_date  is_premium_member  Women’s_Clothing  Men’s_Clothing  \\\n",
              "0             2021-04-01                  0          2.945701        8.924431   \n",
              "1             2020-01-26                  0          6.115229        2.363926   \n",
              "2             2020-11-28                  0          1.000000        3.000000   \n",
              "3             2020-11-16                  0          2.116475        9.064060   \n",
              "4             2020-03-12                  0          7.352878        1.995744   \n",
              "\n",
              "   Kid’s_Clothing  Home_&_Living    Beauty  Electronics  Preferred_Theme  \\\n",
              "0        2.000000       2.325376  1.924891     9.820254                1   \n",
              "1        6.968752       7.355854  8.561461     2.162229                0   \n",
              "2        1.766530       3.471802  0.808147     9.055563                1   \n",
              "3        5.387599       2.000000  0.459090     7.343461                1   \n",
              "4        2.676853       7.159554  8.184695     2.000000                0   \n",
              "\n",
              "   Last_order_year  Last_order_Month  Last_order_day  \n",
              "0             2021                 4               1  \n",
              "1             2020                 1              26  \n",
              "2             2020                11              28  \n",
              "3             2020                11              16  \n",
              "4             2020                 3              12  "
            ],
            "text/html": [
              "\n",
              "  <div id=\"df-f2f7e1d4-04ef-4a80-960e-391527eb42dc\">\n",
              "    <div class=\"colab-df-container\">\n",
              "      <div>\n",
              "<style scoped>\n",
              "    .dataframe tbody tr th:only-of-type {\n",
              "        vertical-align: middle;\n",
              "    }\n",
              "\n",
              "    .dataframe tbody tr th {\n",
              "        vertical-align: top;\n",
              "    }\n",
              "\n",
              "    .dataframe thead th {\n",
              "        text-align: right;\n",
              "    }\n",
              "</style>\n",
              "<table border=\"1\" class=\"dataframe\">\n",
              "  <thead>\n",
              "    <tr style=\"text-align: right;\">\n",
              "      <th></th>\n",
              "      <th>CustomerID</th>\n",
              "      <th>Age</th>\n",
              "      <th>Gender</th>\n",
              "      <th>City</th>\n",
              "      <th>State</th>\n",
              "      <th>No_of_orders_placed</th>\n",
              "      <th>Last_order_placed_date</th>\n",
              "      <th>is_premium_member</th>\n",
              "      <th>Women’s_Clothing</th>\n",
              "      <th>Men’s_Clothing</th>\n",
              "      <th>Kid’s_Clothing</th>\n",
              "      <th>Home_&amp;_Living</th>\n",
              "      <th>Beauty</th>\n",
              "      <th>Electronics</th>\n",
              "      <th>Preferred_Theme</th>\n",
              "      <th>Last_order_year</th>\n",
              "      <th>Last_order_Month</th>\n",
              "      <th>Last_order_day</th>\n",
              "    </tr>\n",
              "  </thead>\n",
              "  <tbody>\n",
              "    <tr>\n",
              "      <th>0</th>\n",
              "      <td>CusID_00126</td>\n",
              "      <td>22.0</td>\n",
              "      <td>1</td>\n",
              "      <td>21</td>\n",
              "      <td>2</td>\n",
              "      <td>4.0</td>\n",
              "      <td>2021-04-01</td>\n",
              "      <td>0</td>\n",
              "      <td>2.945701</td>\n",
              "      <td>8.924431</td>\n",
              "      <td>2.000000</td>\n",
              "      <td>2.325376</td>\n",
              "      <td>1.924891</td>\n",
              "      <td>9.820254</td>\n",
              "      <td>1</td>\n",
              "      <td>2021</td>\n",
              "      <td>4</td>\n",
              "      <td>1</td>\n",
              "    </tr>\n",
              "    <tr>\n",
              "      <th>1</th>\n",
              "      <td>CusID_00927</td>\n",
              "      <td>31.0</td>\n",
              "      <td>0</td>\n",
              "      <td>3</td>\n",
              "      <td>5</td>\n",
              "      <td>9.0</td>\n",
              "      <td>2020-01-26</td>\n",
              "      <td>0</td>\n",
              "      <td>6.115229</td>\n",
              "      <td>2.363926</td>\n",
              "      <td>6.968752</td>\n",
              "      <td>7.355854</td>\n",
              "      <td>8.561461</td>\n",
              "      <td>2.162229</td>\n",
              "      <td>0</td>\n",
              "      <td>2020</td>\n",
              "      <td>1</td>\n",
              "      <td>26</td>\n",
              "    </tr>\n",
              "    <tr>\n",
              "      <th>2</th>\n",
              "      <td>CusID_01646</td>\n",
              "      <td>26.0</td>\n",
              "      <td>1</td>\n",
              "      <td>11</td>\n",
              "      <td>8</td>\n",
              "      <td>10.0</td>\n",
              "      <td>2020-11-28</td>\n",
              "      <td>0</td>\n",
              "      <td>1.000000</td>\n",
              "      <td>3.000000</td>\n",
              "      <td>1.766530</td>\n",
              "      <td>3.471802</td>\n",
              "      <td>0.808147</td>\n",
              "      <td>9.055563</td>\n",
              "      <td>1</td>\n",
              "      <td>2020</td>\n",
              "      <td>11</td>\n",
              "      <td>28</td>\n",
              "    </tr>\n",
              "    <tr>\n",
              "      <th>3</th>\n",
              "      <td>CusID_06228</td>\n",
              "      <td>31.0</td>\n",
              "      <td>1</td>\n",
              "      <td>16</td>\n",
              "      <td>3</td>\n",
              "      <td>7.0</td>\n",
              "      <td>2020-11-16</td>\n",
              "      <td>0</td>\n",
              "      <td>2.116475</td>\n",
              "      <td>9.064060</td>\n",
              "      <td>5.387599</td>\n",
              "      <td>2.000000</td>\n",
              "      <td>0.459090</td>\n",
              "      <td>7.343461</td>\n",
              "      <td>1</td>\n",
              "      <td>2020</td>\n",
              "      <td>11</td>\n",
              "      <td>16</td>\n",
              "    </tr>\n",
              "    <tr>\n",
              "      <th>4</th>\n",
              "      <td>CusID_04239</td>\n",
              "      <td>29.0</td>\n",
              "      <td>0</td>\n",
              "      <td>19</td>\n",
              "      <td>14</td>\n",
              "      <td>10.0</td>\n",
              "      <td>2020-03-12</td>\n",
              "      <td>0</td>\n",
              "      <td>7.352878</td>\n",
              "      <td>1.995744</td>\n",
              "      <td>2.676853</td>\n",
              "      <td>7.159554</td>\n",
              "      <td>8.184695</td>\n",
              "      <td>2.000000</td>\n",
              "      <td>0</td>\n",
              "      <td>2020</td>\n",
              "      <td>3</td>\n",
              "      <td>12</td>\n",
              "    </tr>\n",
              "  </tbody>\n",
              "</table>\n",
              "</div>\n",
              "      <button class=\"colab-df-convert\" onclick=\"convertToInteractive('df-f2f7e1d4-04ef-4a80-960e-391527eb42dc')\"\n",
              "              title=\"Convert this dataframe to an interactive table.\"\n",
              "              style=\"display:none;\">\n",
              "        \n",
              "  <svg xmlns=\"http://www.w3.org/2000/svg\" height=\"24px\"viewBox=\"0 0 24 24\"\n",
              "       width=\"24px\">\n",
              "    <path d=\"M0 0h24v24H0V0z\" fill=\"none\"/>\n",
              "    <path d=\"M18.56 5.44l.94 2.06.94-2.06 2.06-.94-2.06-.94-.94-2.06-.94 2.06-2.06.94zm-11 1L8.5 8.5l.94-2.06 2.06-.94-2.06-.94L8.5 2.5l-.94 2.06-2.06.94zm10 10l.94 2.06.94-2.06 2.06-.94-2.06-.94-.94-2.06-.94 2.06-2.06.94z\"/><path d=\"M17.41 7.96l-1.37-1.37c-.4-.4-.92-.59-1.43-.59-.52 0-1.04.2-1.43.59L10.3 9.45l-7.72 7.72c-.78.78-.78 2.05 0 2.83L4 21.41c.39.39.9.59 1.41.59.51 0 1.02-.2 1.41-.59l7.78-7.78 2.81-2.81c.8-.78.8-2.07 0-2.86zM5.41 20L4 18.59l7.72-7.72 1.47 1.35L5.41 20z\"/>\n",
              "  </svg>\n",
              "      </button>\n",
              "      \n",
              "  <style>\n",
              "    .colab-df-container {\n",
              "      display:flex;\n",
              "      flex-wrap:wrap;\n",
              "      gap: 12px;\n",
              "    }\n",
              "\n",
              "    .colab-df-convert {\n",
              "      background-color: #E8F0FE;\n",
              "      border: none;\n",
              "      border-radius: 50%;\n",
              "      cursor: pointer;\n",
              "      display: none;\n",
              "      fill: #1967D2;\n",
              "      height: 32px;\n",
              "      padding: 0 0 0 0;\n",
              "      width: 32px;\n",
              "    }\n",
              "\n",
              "    .colab-df-convert:hover {\n",
              "      background-color: #E2EBFA;\n",
              "      box-shadow: 0px 1px 2px rgba(60, 64, 67, 0.3), 0px 1px 3px 1px rgba(60, 64, 67, 0.15);\n",
              "      fill: #174EA6;\n",
              "    }\n",
              "\n",
              "    [theme=dark] .colab-df-convert {\n",
              "      background-color: #3B4455;\n",
              "      fill: #D2E3FC;\n",
              "    }\n",
              "\n",
              "    [theme=dark] .colab-df-convert:hover {\n",
              "      background-color: #434B5C;\n",
              "      box-shadow: 0px 1px 3px 1px rgba(0, 0, 0, 0.15);\n",
              "      filter: drop-shadow(0px 1px 2px rgba(0, 0, 0, 0.3));\n",
              "      fill: #FFFFFF;\n",
              "    }\n",
              "  </style>\n",
              "\n",
              "      <script>\n",
              "        const buttonEl =\n",
              "          document.querySelector('#df-f2f7e1d4-04ef-4a80-960e-391527eb42dc button.colab-df-convert');\n",
              "        buttonEl.style.display =\n",
              "          google.colab.kernel.accessAllowed ? 'block' : 'none';\n",
              "\n",
              "        async function convertToInteractive(key) {\n",
              "          const element = document.querySelector('#df-f2f7e1d4-04ef-4a80-960e-391527eb42dc');\n",
              "          const dataTable =\n",
              "            await google.colab.kernel.invokeFunction('convertToInteractive',\n",
              "                                                     [key], {});\n",
              "          if (!dataTable) return;\n",
              "\n",
              "          const docLinkHtml = 'Like what you see? Visit the ' +\n",
              "            '<a target=\"_blank\" href=https://colab.research.google.com/notebooks/data_table.ipynb>data table notebook</a>'\n",
              "            + ' to learn more about interactive tables.';\n",
              "          element.innerHTML = '';\n",
              "          dataTable['output_type'] = 'display_data';\n",
              "          await google.colab.output.renderOutput(dataTable, element);\n",
              "          const docLink = document.createElement('div');\n",
              "          docLink.innerHTML = docLinkHtml;\n",
              "          element.appendChild(docLink);\n",
              "        }\n",
              "      </script>\n",
              "    </div>\n",
              "  </div>\n",
              "  "
            ]
          },
          "metadata": {},
          "execution_count": 16
        }
      ]
    },
    {
      "cell_type": "code",
      "source": [
        "train[(train['CustomerID']=='CusID_03946')]"
      ],
      "metadata": {
        "colab": {
          "base_uri": "https://localhost:8080/",
          "height": 866
        },
        "id": "AArsIFaAvjRm",
        "outputId": "d6c7e12e-7e04-4d65-f4dc-06a15e0cce92"
      },
      "execution_count": null,
      "outputs": [
        {
          "output_type": "execute_result",
          "data": {
            "text/plain": [
              "        CustomerID   Age  Gender  City  State  No_of_orders_placed  \\\n",
              "4572   CusID_03946  28.0       0    12      0                  9.0   \n",
              "8307   CusID_03946  36.0       1    19      6                  7.0   \n",
              "8572   CusID_03946  27.0       0    21     17                 12.0   \n",
              "8705   CusID_03946  19.0       0    21     10                  9.0   \n",
              "8799   CusID_03946  31.0       0    15      2                  4.0   \n",
              "8808   CusID_03946  25.0       0     3      3                  4.0   \n",
              "9122   CusID_03946  32.0       0     2      0                  4.0   \n",
              "9129   CusID_03946  33.0       2    21     19                 14.0   \n",
              "9630   CusID_03946  26.0       0    12     20                  6.0   \n",
              "9795   CusID_03946  19.0       0    16     15                  8.0   \n",
              "10384  CusID_03946  36.0       1    16     20                  5.0   \n",
              "10390  CusID_03946  32.0       0    21     13                 15.0   \n",
              "10724  CusID_03946  20.0       2    20      4                 10.0   \n",
              "10968  CusID_03946  31.0       0    22     20                  3.0   \n",
              "11233  CusID_03946  39.0       2    21      2                 14.0   \n",
              "11612  CusID_03946  20.0       0    12      3                 12.0   \n",
              "12599  CusID_03946  31.0       0     4      4                  7.0   \n",
              "13425  CusID_03946  17.0       1    21      8                  7.0   \n",
              "14294  CusID_03946  24.0       0    18     13                  3.0   \n",
              "14329  CusID_03946  24.0       0    20      3                  7.0   \n",
              "14330  CusID_03946  32.0       0    21     13                  8.0   \n",
              "14461  CusID_03946  17.0       0     0     12                  7.0   \n",
              "14717  CusID_03946  19.0       0    21      3                 14.0   \n",
              "14930  CusID_03946  33.0       0     9     16                  8.0   \n",
              "\n",
              "      Last_order_placed_date  is_premium_member  Women’s_Clothing  \\\n",
              "4572              2021-01-22                  0          9.862974   \n",
              "8307              2021-06-28                  0          0.916328   \n",
              "8572              2021-09-02                  1          1.158384   \n",
              "8705              2021-12-10                  0          1.439141   \n",
              "8799              2020-04-18                  0          7.023964   \n",
              "8808              2021-03-15                  0          6.635891   \n",
              "9122              2020-07-29                  1          5.978580   \n",
              "9129              2021-10-13                  1          7.984146   \n",
              "9630              2021-02-20                  0        -66.000000   \n",
              "9795              2021-04-26                  0          7.477081   \n",
              "10384             2020-12-29                  0          4.541110   \n",
              "10390             2020-10-26                  1        -22.000000   \n",
              "10724             2021-09-01                  1          5.931521   \n",
              "10968             2021-08-09                  0          8.222446   \n",
              "11233             2020-09-09                  1          0.471604   \n",
              "11612             2021-03-13                  0          8.094839   \n",
              "12599             2020-01-12                  1          6.199555   \n",
              "13425             2021-04-06                  0          8.100158   \n",
              "14294             2020-09-22                  0          9.135050   \n",
              "14329             2020-08-28                  0          8.414682   \n",
              "14330             2021-08-24                  0          0.437704   \n",
              "14461             2020-12-22                  1          7.196211   \n",
              "14717             2021-02-27                  1          4.168748   \n",
              "14930             2020-10-16                  1          6.807671   \n",
              "\n",
              "       Men’s_Clothing  Kid’s_Clothing  Home_&_Living     Beauty  Electronics  \\\n",
              "4572         0.585767        7.758167       8.357562   2.000000     0.613109   \n",
              "8307         6.266816        7.410721       4.112618   0.250892     1.962318   \n",
              "8572         0.614670        4.935591       4.760135   0.459547     4.053602   \n",
              "8705         1.619540        5.556449       6.687981  15.749622     6.601435   \n",
              "8799         1.717900        4.897106       7.352134   8.149748     2.748126   \n",
              "8808         1.006558        8.973741       6.330489   8.200965     3.072037   \n",
              "9122         2.524953        8.893667       7.176628   8.048416     3.839864   \n",
              "9129         2.343965        2.530758       4.356719   3.145453     5.162902   \n",
              "9630         0.722800        3.000000       7.029419   8.948479     2.471173   \n",
              "9795         1.776685        4.548691       6.408706   7.730308     1.996382   \n",
              "10384        2.648474        0.693028       4.913665   7.531235     3.829097   \n",
              "10390        1.672041        5.164363       6.759828   6.489013     3.664293   \n",
              "10724        1.160500        3.471798       5.274525   0.494816     5.113048   \n",
              "10968        2.152329        9.171918       5.215615   7.183851     0.974417   \n",
              "11233        2.839233        4.464307       6.653271   8.904584     4.749556   \n",
              "11612        2.033035        8.621955       5.549197   7.358629     3.491977   \n",
              "12599        3.634780        4.643099       8.219736   1.991034     2.895057   \n",
              "13425        2.202898        5.155765       2.017160   1.086822     5.475295   \n",
              "14294        2.786670        4.531005       6.961668   7.613019     2.619801   \n",
              "14329        1.698109        8.698766       8.070706   7.837189     0.883415   \n",
              "14330        1.570890        3.000000       4.722527   4.163437     8.270712   \n",
              "14461        1.969254        3.000000       6.601773   7.851081     0.426852   \n",
              "14717        2.650942        6.097288       2.816697   2.841716     3.853483   \n",
              "14930        1.494406        5.734441       6.197269   7.347208     0.901951   \n",
              "\n",
              "       Preferred_Theme  Last_order_year  Last_order_Month  Last_order_day  \n",
              "4572                 0             2021                 1              22  \n",
              "8307                 1             2021                 6              28  \n",
              "8572                 1             2021                 9               2  \n",
              "8705                 0             2021                12              10  \n",
              "8799                 1             2020                 4              18  \n",
              "8808                 0             2021                 3              15  \n",
              "9122                 0             2020                 7              29  \n",
              "9129                 1             2021                10              13  \n",
              "9630                 0             2021                 2              20  \n",
              "9795                 1             2021                 4              26  \n",
              "10384                1             2020                12              29  \n",
              "10390                0             2020                10              26  \n",
              "10724                0             2021                 9               1  \n",
              "10968                1             2021                 8               9  \n",
              "11233                1             2020                 9               9  \n",
              "11612                0             2021                 3              13  \n",
              "12599                0             2020                 1              12  \n",
              "13425                1             2021                 4               6  \n",
              "14294                0             2020                 9              22  \n",
              "14329                0             2020                 8              28  \n",
              "14330                0             2021                 8              24  \n",
              "14461                0             2020                12              22  \n",
              "14717                0             2021                 2              27  \n",
              "14930                0             2020                10              16  "
            ],
            "text/html": [
              "\n",
              "  <div id=\"df-a51edd4d-d347-43b6-8b66-38442ec08072\">\n",
              "    <div class=\"colab-df-container\">\n",
              "      <div>\n",
              "<style scoped>\n",
              "    .dataframe tbody tr th:only-of-type {\n",
              "        vertical-align: middle;\n",
              "    }\n",
              "\n",
              "    .dataframe tbody tr th {\n",
              "        vertical-align: top;\n",
              "    }\n",
              "\n",
              "    .dataframe thead th {\n",
              "        text-align: right;\n",
              "    }\n",
              "</style>\n",
              "<table border=\"1\" class=\"dataframe\">\n",
              "  <thead>\n",
              "    <tr style=\"text-align: right;\">\n",
              "      <th></th>\n",
              "      <th>CustomerID</th>\n",
              "      <th>Age</th>\n",
              "      <th>Gender</th>\n",
              "      <th>City</th>\n",
              "      <th>State</th>\n",
              "      <th>No_of_orders_placed</th>\n",
              "      <th>Last_order_placed_date</th>\n",
              "      <th>is_premium_member</th>\n",
              "      <th>Women’s_Clothing</th>\n",
              "      <th>Men’s_Clothing</th>\n",
              "      <th>Kid’s_Clothing</th>\n",
              "      <th>Home_&amp;_Living</th>\n",
              "      <th>Beauty</th>\n",
              "      <th>Electronics</th>\n",
              "      <th>Preferred_Theme</th>\n",
              "      <th>Last_order_year</th>\n",
              "      <th>Last_order_Month</th>\n",
              "      <th>Last_order_day</th>\n",
              "    </tr>\n",
              "  </thead>\n",
              "  <tbody>\n",
              "    <tr>\n",
              "      <th>4572</th>\n",
              "      <td>CusID_03946</td>\n",
              "      <td>28.0</td>\n",
              "      <td>0</td>\n",
              "      <td>12</td>\n",
              "      <td>0</td>\n",
              "      <td>9.0</td>\n",
              "      <td>2021-01-22</td>\n",
              "      <td>0</td>\n",
              "      <td>9.862974</td>\n",
              "      <td>0.585767</td>\n",
              "      <td>7.758167</td>\n",
              "      <td>8.357562</td>\n",
              "      <td>2.000000</td>\n",
              "      <td>0.613109</td>\n",
              "      <td>0</td>\n",
              "      <td>2021</td>\n",
              "      <td>1</td>\n",
              "      <td>22</td>\n",
              "    </tr>\n",
              "    <tr>\n",
              "      <th>8307</th>\n",
              "      <td>CusID_03946</td>\n",
              "      <td>36.0</td>\n",
              "      <td>1</td>\n",
              "      <td>19</td>\n",
              "      <td>6</td>\n",
              "      <td>7.0</td>\n",
              "      <td>2021-06-28</td>\n",
              "      <td>0</td>\n",
              "      <td>0.916328</td>\n",
              "      <td>6.266816</td>\n",
              "      <td>7.410721</td>\n",
              "      <td>4.112618</td>\n",
              "      <td>0.250892</td>\n",
              "      <td>1.962318</td>\n",
              "      <td>1</td>\n",
              "      <td>2021</td>\n",
              "      <td>6</td>\n",
              "      <td>28</td>\n",
              "    </tr>\n",
              "    <tr>\n",
              "      <th>8572</th>\n",
              "      <td>CusID_03946</td>\n",
              "      <td>27.0</td>\n",
              "      <td>0</td>\n",
              "      <td>21</td>\n",
              "      <td>17</td>\n",
              "      <td>12.0</td>\n",
              "      <td>2021-09-02</td>\n",
              "      <td>1</td>\n",
              "      <td>1.158384</td>\n",
              "      <td>0.614670</td>\n",
              "      <td>4.935591</td>\n",
              "      <td>4.760135</td>\n",
              "      <td>0.459547</td>\n",
              "      <td>4.053602</td>\n",
              "      <td>1</td>\n",
              "      <td>2021</td>\n",
              "      <td>9</td>\n",
              "      <td>2</td>\n",
              "    </tr>\n",
              "    <tr>\n",
              "      <th>8705</th>\n",
              "      <td>CusID_03946</td>\n",
              "      <td>19.0</td>\n",
              "      <td>0</td>\n",
              "      <td>21</td>\n",
              "      <td>10</td>\n",
              "      <td>9.0</td>\n",
              "      <td>2021-12-10</td>\n",
              "      <td>0</td>\n",
              "      <td>1.439141</td>\n",
              "      <td>1.619540</td>\n",
              "      <td>5.556449</td>\n",
              "      <td>6.687981</td>\n",
              "      <td>15.749622</td>\n",
              "      <td>6.601435</td>\n",
              "      <td>0</td>\n",
              "      <td>2021</td>\n",
              "      <td>12</td>\n",
              "      <td>10</td>\n",
              "    </tr>\n",
              "    <tr>\n",
              "      <th>8799</th>\n",
              "      <td>CusID_03946</td>\n",
              "      <td>31.0</td>\n",
              "      <td>0</td>\n",
              "      <td>15</td>\n",
              "      <td>2</td>\n",
              "      <td>4.0</td>\n",
              "      <td>2020-04-18</td>\n",
              "      <td>0</td>\n",
              "      <td>7.023964</td>\n",
              "      <td>1.717900</td>\n",
              "      <td>4.897106</td>\n",
              "      <td>7.352134</td>\n",
              "      <td>8.149748</td>\n",
              "      <td>2.748126</td>\n",
              "      <td>1</td>\n",
              "      <td>2020</td>\n",
              "      <td>4</td>\n",
              "      <td>18</td>\n",
              "    </tr>\n",
              "    <tr>\n",
              "      <th>8808</th>\n",
              "      <td>CusID_03946</td>\n",
              "      <td>25.0</td>\n",
              "      <td>0</td>\n",
              "      <td>3</td>\n",
              "      <td>3</td>\n",
              "      <td>4.0</td>\n",
              "      <td>2021-03-15</td>\n",
              "      <td>0</td>\n",
              "      <td>6.635891</td>\n",
              "      <td>1.006558</td>\n",
              "      <td>8.973741</td>\n",
              "      <td>6.330489</td>\n",
              "      <td>8.200965</td>\n",
              "      <td>3.072037</td>\n",
              "      <td>0</td>\n",
              "      <td>2021</td>\n",
              "      <td>3</td>\n",
              "      <td>15</td>\n",
              "    </tr>\n",
              "    <tr>\n",
              "      <th>9122</th>\n",
              "      <td>CusID_03946</td>\n",
              "      <td>32.0</td>\n",
              "      <td>0</td>\n",
              "      <td>2</td>\n",
              "      <td>0</td>\n",
              "      <td>4.0</td>\n",
              "      <td>2020-07-29</td>\n",
              "      <td>1</td>\n",
              "      <td>5.978580</td>\n",
              "      <td>2.524953</td>\n",
              "      <td>8.893667</td>\n",
              "      <td>7.176628</td>\n",
              "      <td>8.048416</td>\n",
              "      <td>3.839864</td>\n",
              "      <td>0</td>\n",
              "      <td>2020</td>\n",
              "      <td>7</td>\n",
              "      <td>29</td>\n",
              "    </tr>\n",
              "    <tr>\n",
              "      <th>9129</th>\n",
              "      <td>CusID_03946</td>\n",
              "      <td>33.0</td>\n",
              "      <td>2</td>\n",
              "      <td>21</td>\n",
              "      <td>19</td>\n",
              "      <td>14.0</td>\n",
              "      <td>2021-10-13</td>\n",
              "      <td>1</td>\n",
              "      <td>7.984146</td>\n",
              "      <td>2.343965</td>\n",
              "      <td>2.530758</td>\n",
              "      <td>4.356719</td>\n",
              "      <td>3.145453</td>\n",
              "      <td>5.162902</td>\n",
              "      <td>1</td>\n",
              "      <td>2021</td>\n",
              "      <td>10</td>\n",
              "      <td>13</td>\n",
              "    </tr>\n",
              "    <tr>\n",
              "      <th>9630</th>\n",
              "      <td>CusID_03946</td>\n",
              "      <td>26.0</td>\n",
              "      <td>0</td>\n",
              "      <td>12</td>\n",
              "      <td>20</td>\n",
              "      <td>6.0</td>\n",
              "      <td>2021-02-20</td>\n",
              "      <td>0</td>\n",
              "      <td>-66.000000</td>\n",
              "      <td>0.722800</td>\n",
              "      <td>3.000000</td>\n",
              "      <td>7.029419</td>\n",
              "      <td>8.948479</td>\n",
              "      <td>2.471173</td>\n",
              "      <td>0</td>\n",
              "      <td>2021</td>\n",
              "      <td>2</td>\n",
              "      <td>20</td>\n",
              "    </tr>\n",
              "    <tr>\n",
              "      <th>9795</th>\n",
              "      <td>CusID_03946</td>\n",
              "      <td>19.0</td>\n",
              "      <td>0</td>\n",
              "      <td>16</td>\n",
              "      <td>15</td>\n",
              "      <td>8.0</td>\n",
              "      <td>2021-04-26</td>\n",
              "      <td>0</td>\n",
              "      <td>7.477081</td>\n",
              "      <td>1.776685</td>\n",
              "      <td>4.548691</td>\n",
              "      <td>6.408706</td>\n",
              "      <td>7.730308</td>\n",
              "      <td>1.996382</td>\n",
              "      <td>1</td>\n",
              "      <td>2021</td>\n",
              "      <td>4</td>\n",
              "      <td>26</td>\n",
              "    </tr>\n",
              "    <tr>\n",
              "      <th>10384</th>\n",
              "      <td>CusID_03946</td>\n",
              "      <td>36.0</td>\n",
              "      <td>1</td>\n",
              "      <td>16</td>\n",
              "      <td>20</td>\n",
              "      <td>5.0</td>\n",
              "      <td>2020-12-29</td>\n",
              "      <td>0</td>\n",
              "      <td>4.541110</td>\n",
              "      <td>2.648474</td>\n",
              "      <td>0.693028</td>\n",
              "      <td>4.913665</td>\n",
              "      <td>7.531235</td>\n",
              "      <td>3.829097</td>\n",
              "      <td>1</td>\n",
              "      <td>2020</td>\n",
              "      <td>12</td>\n",
              "      <td>29</td>\n",
              "    </tr>\n",
              "    <tr>\n",
              "      <th>10390</th>\n",
              "      <td>CusID_03946</td>\n",
              "      <td>32.0</td>\n",
              "      <td>0</td>\n",
              "      <td>21</td>\n",
              "      <td>13</td>\n",
              "      <td>15.0</td>\n",
              "      <td>2020-10-26</td>\n",
              "      <td>1</td>\n",
              "      <td>-22.000000</td>\n",
              "      <td>1.672041</td>\n",
              "      <td>5.164363</td>\n",
              "      <td>6.759828</td>\n",
              "      <td>6.489013</td>\n",
              "      <td>3.664293</td>\n",
              "      <td>0</td>\n",
              "      <td>2020</td>\n",
              "      <td>10</td>\n",
              "      <td>26</td>\n",
              "    </tr>\n",
              "    <tr>\n",
              "      <th>10724</th>\n",
              "      <td>CusID_03946</td>\n",
              "      <td>20.0</td>\n",
              "      <td>2</td>\n",
              "      <td>20</td>\n",
              "      <td>4</td>\n",
              "      <td>10.0</td>\n",
              "      <td>2021-09-01</td>\n",
              "      <td>1</td>\n",
              "      <td>5.931521</td>\n",
              "      <td>1.160500</td>\n",
              "      <td>3.471798</td>\n",
              "      <td>5.274525</td>\n",
              "      <td>0.494816</td>\n",
              "      <td>5.113048</td>\n",
              "      <td>0</td>\n",
              "      <td>2021</td>\n",
              "      <td>9</td>\n",
              "      <td>1</td>\n",
              "    </tr>\n",
              "    <tr>\n",
              "      <th>10968</th>\n",
              "      <td>CusID_03946</td>\n",
              "      <td>31.0</td>\n",
              "      <td>0</td>\n",
              "      <td>22</td>\n",
              "      <td>20</td>\n",
              "      <td>3.0</td>\n",
              "      <td>2021-08-09</td>\n",
              "      <td>0</td>\n",
              "      <td>8.222446</td>\n",
              "      <td>2.152329</td>\n",
              "      <td>9.171918</td>\n",
              "      <td>5.215615</td>\n",
              "      <td>7.183851</td>\n",
              "      <td>0.974417</td>\n",
              "      <td>1</td>\n",
              "      <td>2021</td>\n",
              "      <td>8</td>\n",
              "      <td>9</td>\n",
              "    </tr>\n",
              "    <tr>\n",
              "      <th>11233</th>\n",
              "      <td>CusID_03946</td>\n",
              "      <td>39.0</td>\n",
              "      <td>2</td>\n",
              "      <td>21</td>\n",
              "      <td>2</td>\n",
              "      <td>14.0</td>\n",
              "      <td>2020-09-09</td>\n",
              "      <td>1</td>\n",
              "      <td>0.471604</td>\n",
              "      <td>2.839233</td>\n",
              "      <td>4.464307</td>\n",
              "      <td>6.653271</td>\n",
              "      <td>8.904584</td>\n",
              "      <td>4.749556</td>\n",
              "      <td>1</td>\n",
              "      <td>2020</td>\n",
              "      <td>9</td>\n",
              "      <td>9</td>\n",
              "    </tr>\n",
              "    <tr>\n",
              "      <th>11612</th>\n",
              "      <td>CusID_03946</td>\n",
              "      <td>20.0</td>\n",
              "      <td>0</td>\n",
              "      <td>12</td>\n",
              "      <td>3</td>\n",
              "      <td>12.0</td>\n",
              "      <td>2021-03-13</td>\n",
              "      <td>0</td>\n",
              "      <td>8.094839</td>\n",
              "      <td>2.033035</td>\n",
              "      <td>8.621955</td>\n",
              "      <td>5.549197</td>\n",
              "      <td>7.358629</td>\n",
              "      <td>3.491977</td>\n",
              "      <td>0</td>\n",
              "      <td>2021</td>\n",
              "      <td>3</td>\n",
              "      <td>13</td>\n",
              "    </tr>\n",
              "    <tr>\n",
              "      <th>12599</th>\n",
              "      <td>CusID_03946</td>\n",
              "      <td>31.0</td>\n",
              "      <td>0</td>\n",
              "      <td>4</td>\n",
              "      <td>4</td>\n",
              "      <td>7.0</td>\n",
              "      <td>2020-01-12</td>\n",
              "      <td>1</td>\n",
              "      <td>6.199555</td>\n",
              "      <td>3.634780</td>\n",
              "      <td>4.643099</td>\n",
              "      <td>8.219736</td>\n",
              "      <td>1.991034</td>\n",
              "      <td>2.895057</td>\n",
              "      <td>0</td>\n",
              "      <td>2020</td>\n",
              "      <td>1</td>\n",
              "      <td>12</td>\n",
              "    </tr>\n",
              "    <tr>\n",
              "      <th>13425</th>\n",
              "      <td>CusID_03946</td>\n",
              "      <td>17.0</td>\n",
              "      <td>1</td>\n",
              "      <td>21</td>\n",
              "      <td>8</td>\n",
              "      <td>7.0</td>\n",
              "      <td>2021-04-06</td>\n",
              "      <td>0</td>\n",
              "      <td>8.100158</td>\n",
              "      <td>2.202898</td>\n",
              "      <td>5.155765</td>\n",
              "      <td>2.017160</td>\n",
              "      <td>1.086822</td>\n",
              "      <td>5.475295</td>\n",
              "      <td>1</td>\n",
              "      <td>2021</td>\n",
              "      <td>4</td>\n",
              "      <td>6</td>\n",
              "    </tr>\n",
              "    <tr>\n",
              "      <th>14294</th>\n",
              "      <td>CusID_03946</td>\n",
              "      <td>24.0</td>\n",
              "      <td>0</td>\n",
              "      <td>18</td>\n",
              "      <td>13</td>\n",
              "      <td>3.0</td>\n",
              "      <td>2020-09-22</td>\n",
              "      <td>0</td>\n",
              "      <td>9.135050</td>\n",
              "      <td>2.786670</td>\n",
              "      <td>4.531005</td>\n",
              "      <td>6.961668</td>\n",
              "      <td>7.613019</td>\n",
              "      <td>2.619801</td>\n",
              "      <td>0</td>\n",
              "      <td>2020</td>\n",
              "      <td>9</td>\n",
              "      <td>22</td>\n",
              "    </tr>\n",
              "    <tr>\n",
              "      <th>14329</th>\n",
              "      <td>CusID_03946</td>\n",
              "      <td>24.0</td>\n",
              "      <td>0</td>\n",
              "      <td>20</td>\n",
              "      <td>3</td>\n",
              "      <td>7.0</td>\n",
              "      <td>2020-08-28</td>\n",
              "      <td>0</td>\n",
              "      <td>8.414682</td>\n",
              "      <td>1.698109</td>\n",
              "      <td>8.698766</td>\n",
              "      <td>8.070706</td>\n",
              "      <td>7.837189</td>\n",
              "      <td>0.883415</td>\n",
              "      <td>0</td>\n",
              "      <td>2020</td>\n",
              "      <td>8</td>\n",
              "      <td>28</td>\n",
              "    </tr>\n",
              "    <tr>\n",
              "      <th>14330</th>\n",
              "      <td>CusID_03946</td>\n",
              "      <td>32.0</td>\n",
              "      <td>0</td>\n",
              "      <td>21</td>\n",
              "      <td>13</td>\n",
              "      <td>8.0</td>\n",
              "      <td>2021-08-24</td>\n",
              "      <td>0</td>\n",
              "      <td>0.437704</td>\n",
              "      <td>1.570890</td>\n",
              "      <td>3.000000</td>\n",
              "      <td>4.722527</td>\n",
              "      <td>4.163437</td>\n",
              "      <td>8.270712</td>\n",
              "      <td>0</td>\n",
              "      <td>2021</td>\n",
              "      <td>8</td>\n",
              "      <td>24</td>\n",
              "    </tr>\n",
              "    <tr>\n",
              "      <th>14461</th>\n",
              "      <td>CusID_03946</td>\n",
              "      <td>17.0</td>\n",
              "      <td>0</td>\n",
              "      <td>0</td>\n",
              "      <td>12</td>\n",
              "      <td>7.0</td>\n",
              "      <td>2020-12-22</td>\n",
              "      <td>1</td>\n",
              "      <td>7.196211</td>\n",
              "      <td>1.969254</td>\n",
              "      <td>3.000000</td>\n",
              "      <td>6.601773</td>\n",
              "      <td>7.851081</td>\n",
              "      <td>0.426852</td>\n",
              "      <td>0</td>\n",
              "      <td>2020</td>\n",
              "      <td>12</td>\n",
              "      <td>22</td>\n",
              "    </tr>\n",
              "    <tr>\n",
              "      <th>14717</th>\n",
              "      <td>CusID_03946</td>\n",
              "      <td>19.0</td>\n",
              "      <td>0</td>\n",
              "      <td>21</td>\n",
              "      <td>3</td>\n",
              "      <td>14.0</td>\n",
              "      <td>2021-02-27</td>\n",
              "      <td>1</td>\n",
              "      <td>4.168748</td>\n",
              "      <td>2.650942</td>\n",
              "      <td>6.097288</td>\n",
              "      <td>2.816697</td>\n",
              "      <td>2.841716</td>\n",
              "      <td>3.853483</td>\n",
              "      <td>0</td>\n",
              "      <td>2021</td>\n",
              "      <td>2</td>\n",
              "      <td>27</td>\n",
              "    </tr>\n",
              "    <tr>\n",
              "      <th>14930</th>\n",
              "      <td>CusID_03946</td>\n",
              "      <td>33.0</td>\n",
              "      <td>0</td>\n",
              "      <td>9</td>\n",
              "      <td>16</td>\n",
              "      <td>8.0</td>\n",
              "      <td>2020-10-16</td>\n",
              "      <td>1</td>\n",
              "      <td>6.807671</td>\n",
              "      <td>1.494406</td>\n",
              "      <td>5.734441</td>\n",
              "      <td>6.197269</td>\n",
              "      <td>7.347208</td>\n",
              "      <td>0.901951</td>\n",
              "      <td>0</td>\n",
              "      <td>2020</td>\n",
              "      <td>10</td>\n",
              "      <td>16</td>\n",
              "    </tr>\n",
              "  </tbody>\n",
              "</table>\n",
              "</div>\n",
              "      <button class=\"colab-df-convert\" onclick=\"convertToInteractive('df-a51edd4d-d347-43b6-8b66-38442ec08072')\"\n",
              "              title=\"Convert this dataframe to an interactive table.\"\n",
              "              style=\"display:none;\">\n",
              "        \n",
              "  <svg xmlns=\"http://www.w3.org/2000/svg\" height=\"24px\"viewBox=\"0 0 24 24\"\n",
              "       width=\"24px\">\n",
              "    <path d=\"M0 0h24v24H0V0z\" fill=\"none\"/>\n",
              "    <path d=\"M18.56 5.44l.94 2.06.94-2.06 2.06-.94-2.06-.94-.94-2.06-.94 2.06-2.06.94zm-11 1L8.5 8.5l.94-2.06 2.06-.94-2.06-.94L8.5 2.5l-.94 2.06-2.06.94zm10 10l.94 2.06.94-2.06 2.06-.94-2.06-.94-.94-2.06-.94 2.06-2.06.94z\"/><path d=\"M17.41 7.96l-1.37-1.37c-.4-.4-.92-.59-1.43-.59-.52 0-1.04.2-1.43.59L10.3 9.45l-7.72 7.72c-.78.78-.78 2.05 0 2.83L4 21.41c.39.39.9.59 1.41.59.51 0 1.02-.2 1.41-.59l7.78-7.78 2.81-2.81c.8-.78.8-2.07 0-2.86zM5.41 20L4 18.59l7.72-7.72 1.47 1.35L5.41 20z\"/>\n",
              "  </svg>\n",
              "      </button>\n",
              "      \n",
              "  <style>\n",
              "    .colab-df-container {\n",
              "      display:flex;\n",
              "      flex-wrap:wrap;\n",
              "      gap: 12px;\n",
              "    }\n",
              "\n",
              "    .colab-df-convert {\n",
              "      background-color: #E8F0FE;\n",
              "      border: none;\n",
              "      border-radius: 50%;\n",
              "      cursor: pointer;\n",
              "      display: none;\n",
              "      fill: #1967D2;\n",
              "      height: 32px;\n",
              "      padding: 0 0 0 0;\n",
              "      width: 32px;\n",
              "    }\n",
              "\n",
              "    .colab-df-convert:hover {\n",
              "      background-color: #E2EBFA;\n",
              "      box-shadow: 0px 1px 2px rgba(60, 64, 67, 0.3), 0px 1px 3px 1px rgba(60, 64, 67, 0.15);\n",
              "      fill: #174EA6;\n",
              "    }\n",
              "\n",
              "    [theme=dark] .colab-df-convert {\n",
              "      background-color: #3B4455;\n",
              "      fill: #D2E3FC;\n",
              "    }\n",
              "\n",
              "    [theme=dark] .colab-df-convert:hover {\n",
              "      background-color: #434B5C;\n",
              "      box-shadow: 0px 1px 3px 1px rgba(0, 0, 0, 0.15);\n",
              "      filter: drop-shadow(0px 1px 2px rgba(0, 0, 0, 0.3));\n",
              "      fill: #FFFFFF;\n",
              "    }\n",
              "  </style>\n",
              "\n",
              "      <script>\n",
              "        const buttonEl =\n",
              "          document.querySelector('#df-a51edd4d-d347-43b6-8b66-38442ec08072 button.colab-df-convert');\n",
              "        buttonEl.style.display =\n",
              "          google.colab.kernel.accessAllowed ? 'block' : 'none';\n",
              "\n",
              "        async function convertToInteractive(key) {\n",
              "          const element = document.querySelector('#df-a51edd4d-d347-43b6-8b66-38442ec08072');\n",
              "          const dataTable =\n",
              "            await google.colab.kernel.invokeFunction('convertToInteractive',\n",
              "                                                     [key], {});\n",
              "          if (!dataTable) return;\n",
              "\n",
              "          const docLinkHtml = 'Like what you see? Visit the ' +\n",
              "            '<a target=\"_blank\" href=https://colab.research.google.com/notebooks/data_table.ipynb>data table notebook</a>'\n",
              "            + ' to learn more about interactive tables.';\n",
              "          element.innerHTML = '';\n",
              "          dataTable['output_type'] = 'display_data';\n",
              "          await google.colab.output.renderOutput(dataTable, element);\n",
              "          const docLink = document.createElement('div');\n",
              "          docLink.innerHTML = docLinkHtml;\n",
              "          element.appendChild(docLink);\n",
              "        }\n",
              "      </script>\n",
              "    </div>\n",
              "  </div>\n",
              "  "
            ]
          },
          "metadata": {},
          "execution_count": 17
        }
      ]
    },
    {
      "cell_type": "code",
      "source": [
        "corrmat= train.corr()\n",
        "top_corr_feature=corrmat.index\n",
        "plt.figure(figsize=(15,10))\n",
        "#plot heat map\n",
        "g=sns.heatmap(train[top_corr_feature].corr(), annot=True, cmap=\"Blues\")"
      ],
      "metadata": {
        "colab": {
          "base_uri": "https://localhost:8080/",
          "height": 690
        },
        "id": "H5opXOI-nsoP",
        "outputId": "af20e57d-f158-4f1b-df0e-e0ce2220427a"
      },
      "execution_count": null,
      "outputs": [
        {
          "output_type": "display_data",
          "data": {
            "text/plain": [
              "<Figure size 1080x720 with 2 Axes>"
            ],
            "image/png": "[encoded data removed]"
          },
          "metadata": {
            "needs_background": "light"
          }
        }
      ]
    },
    {
      "cell_type": "code",
      "source": [
        "sns.countplot(train['Preferred_Theme'])"
      ],
      "metadata": {
        "colab": {
          "base_uri": "https://localhost:8080/",
          "height": 355
        },
        "id": "T7EHsJwFoPZ0",
        "outputId": "4ea6a34a-ffae-4a1e-c0b1-d66a9fdfd366"
      },
      "execution_count": null,
      "outputs": [
        {
          "output_type": "stream",
          "name": "stderr",
          "text": [
            "/usr/local/lib/python3.7/dist-packages/seaborn/_decorators.py:43: FutureWarning: Pass the following variable as a keyword arg: x. From version 0.12, the only valid positional argument will be `data`, and passing other arguments without an explicit keyword will result in an error or misinterpretation.\n",
            "  FutureWarning\n"
          ]
        },
        {
          "output_type": "execute_result",
          "data": {
            "text/plain": [
              "<matplotlib.axes._subplots.AxesSubplot at 0x7ff24dc5fad0>"
            ]
          },
          "metadata": {},
          "execution_count": 19
        },
        {
          "output_type": "display_data",
          "data": {
            "text/plain": [
              "<Figure size 432x288 with 1 Axes>"
            ],
            "image/png": "[encoded data removed]"
          },
          "metadata": {
            "needs_background": "light"
          }
        }
      ]
    },
    {
      "cell_type": "code",
      "source": [
        "train=train.drop([\"Last_order_placed_date\"], axis=1)"
      ],
      "metadata": {
        "id": "WR2lKD40po-H"
      },
      "execution_count": null,
      "outputs": []
    },
    {
      "cell_type": "code",
      "source": [
        "train.info()"
      ],
      "metadata": {
        "colab": {
          "base_uri": "https://localhost:8080/"
        },
        "id": "7nHvsbgrnq43",
        "outputId": "66eff8b6-1806-4785-849e-171ee1c9ee8b"
      },
      "execution_count": null,
      "outputs": [
        {
          "output_type": "stream",
          "name": "stdout",
          "text": [
            "<class 'pandas.core.frame.DataFrame'>\n",
            "RangeIndex: 15150 entries, 0 to 15149\n",
            "Data columns (total 17 columns):\n",
            " #   Column               Non-Null Count  Dtype  \n",
            "---  ------               --------------  -----  \n",
            " 0   CustomerID           15150 non-null  object \n",
            " 1   Age                  15150 non-null  float64\n",
            " 2   Gender               15150 non-null  int64  \n",
            " 3   City                 15150 non-null  int64  \n",
            " 4   State                15150 non-null  int64  \n",
            " 5   No_of_orders_placed  15150 non-null  float64\n",
            " 6   is_premium_member    15150 non-null  int64  \n",
            " 7   Women’s_Clothing     15150 non-null  float64\n",
            " 8   Men’s_Clothing       15150 non-null  float64\n",
            " 9   Kid’s_Clothing       15150 non-null  float64\n",
            " 10  Home_&_Living        15150 non-null  float64\n",
            " 11  Beauty               15150 non-null  float64\n",
            " 12  Electronics          15150 non-null  float64\n",
            " 13  Preferred_Theme      15150 non-null  int64  \n",
            " 14  Last_order_year      15150 non-null  int64  \n",
            " 15  Last_order_Month     15150 non-null  int64  \n",
            " 16  Last_order_day       15150 non-null  int64  \n",
            "dtypes: float64(8), int64(8), object(1)\n",
            "memory usage: 2.0+ MB\n"
          ]
        }
      ]
    },
    {
      "cell_type": "code",
      "source": [
        "cols=list(train.columns[train.dtypes==\"object\"])\n",
        "cols"
      ],
      "metadata": {
        "colab": {
          "base_uri": "https://localhost:8080/"
        },
        "id": "dkxtHvmlp6mz",
        "outputId": "980e26d2-1739-48aa-b68b-08dae6b12be8"
      },
      "execution_count": null,
      "outputs": [
        {
          "output_type": "execute_result",
          "data": {
            "text/plain": [
              "['CustomerID']"
            ]
          },
          "metadata": {},
          "execution_count": 23
        }
      ]
    },
    {
      "cell_type": "code",
      "source": [
        "test=pd.read_csv(\"/content/drive/MyDrive/hacker_hiring/test.csv\")"
      ],
      "metadata": {
        "id": "WJ6D5itOqsH8"
      },
      "execution_count": null,
      "outputs": []
    },
    {
      "cell_type": "code",
      "source": [
        "test.head()"
      ],
      "metadata": {
        "colab": {
          "base_uri": "https://localhost:8080/",
          "height": 357
        },
        "id": "0O7SJ1upxIDV",
        "outputId": "f50b7e23-d808-410c-f684-cbff71c56219"
      },
      "execution_count": null,
      "outputs": [
        {
          "output_type": "execute_result",
          "data": {
            "text/plain": [
              "    CustomerID   Age         Gender           City              State  \\\n",
              "0  CusID_09654  20.0         Female      Vancouver   British Columbia   \n",
              "1  CusID_09727  25.0  Not_Specified       Budapest    Central Hungary   \n",
              "2  CusID_07391  31.0         Female          Perth  Western Australia   \n",
              "3  CusID_08577  17.0         Female        Kolkata        West Bengal   \n",
              "4  CusID_08122  39.0           Male  New York City           New York   \n",
              "\n",
              "   No_of_orders_placed Sign_up_date Last_order_placed_date  is_premium_member  \\\n",
              "0                  5.0   2019-11-27             2020-03-22                  0   \n",
              "1                 11.0   2016-12-01             2021-08-22                  1   \n",
              "2                  1.0   2019-10-31             2020-11-28                  1   \n",
              "3                  7.0   2019-09-05             2021-03-20                  0   \n",
              "4                  8.0   2019-07-17             2021-01-19                  0   \n",
              "\n",
              "   Women’s_Clothing  Men’s_Clothing  Kid’s_Clothing  Home_&_Living    Beauty  \\\n",
              "0          4.000000        3.043023        6.231789       8.561328  9.893144   \n",
              "1          4.379066        5.819171        6.923614       4.529057  5.105539   \n",
              "2          7.946141        4.000000        9.939050       9.744879  8.874676   \n",
              "3          8.396490        3.636100        4.170301       8.412250  9.389648   \n",
              "4          2.443467        9.143171        6.307817       3.224570  1.892078   \n",
              "\n",
              "   Electronics  \n",
              "0     1.197478  \n",
              "1     4.608664  \n",
              "2     2.069313  \n",
              "3     3.103196  \n",
              "4     7.298316  "
            ],
            "text/html": [
              "\n",
              "  <div id=\"df-3e5106b3-a23d-4c41-bdd3-c24fc72cb81e\">\n",
              "    <div class=\"colab-df-container\">\n",
              "      <div>\n",
              "<style scoped>\n",
              "    .dataframe tbody tr th:only-of-type {\n",
              "        vertical-align: middle;\n",
              "    }\n",
              "\n",
              "    .dataframe tbody tr th {\n",
              "        vertical-align: top;\n",
              "    }\n",
              "\n",
              "    .dataframe thead th {\n",
              "        text-align: right;\n",
              "    }\n",
              "</style>\n",
              "<table border=\"1\" class=\"dataframe\">\n",
              "  <thead>\n",
              "    <tr style=\"text-align: right;\">\n",
              "      <th></th>\n",
              "      <th>CustomerID</th>\n",
              "      <th>Age</th>\n",
              "      <th>Gender</th>\n",
              "      <th>City</th>\n",
              "      <th>State</th>\n",
              "      <th>No_of_orders_placed</th>\n",
              "      <th>Sign_up_date</th>\n",
              "      <th>Last_order_placed_date</th>\n",
              "      <th>is_premium_member</th>\n",
              "      <th>Women’s_Clothing</th>\n",
              "      <th>Men’s_Clothing</th>\n",
              "      <th>Kid’s_Clothing</th>\n",
              "      <th>Home_&amp;_Living</th>\n",
              "      <th>Beauty</th>\n",
              "      <th>Electronics</th>\n",
              "    </tr>\n",
              "  </thead>\n",
              "  <tbody>\n",
              "    <tr>\n",
              "      <th>0</th>\n",
              "      <td>CusID_09654</td>\n",
              "      <td>20.0</td>\n",
              "      <td>Female</td>\n",
              "      <td>Vancouver</td>\n",
              "      <td>British Columbia</td>\n",
              "      <td>5.0</td>\n",
              "      <td>2019-11-27</td>\n",
              "      <td>2020-03-22</td>\n",
              "      <td>0</td>\n",
              "      <td>4.000000</td>\n",
              "      <td>3.043023</td>\n",
              "      <td>6.231789</td>\n",
              "      <td>8.561328</td>\n",
              "      <td>9.893144</td>\n",
              "      <td>1.197478</td>\n",
              "    </tr>\n",
              "    <tr>\n",
              "      <th>1</th>\n",
              "      <td>CusID_09727</td>\n",
              "      <td>25.0</td>\n",
              "      <td>Not_Specified</td>\n",
              "      <td>Budapest</td>\n",
              "      <td>Central Hungary</td>\n",
              "      <td>11.0</td>\n",
              "      <td>2016-12-01</td>\n",
              "      <td>2021-08-22</td>\n",
              "      <td>1</td>\n",
              "      <td>4.379066</td>\n",
              "      <td>5.819171</td>\n",
              "      <td>6.923614</td>\n",
              "      <td>4.529057</td>\n",
              "      <td>5.105539</td>\n",
              "      <td>4.608664</td>\n",
              "    </tr>\n",
              "    <tr>\n",
              "      <th>2</th>\n",
              "      <td>CusID_07391</td>\n",
              "      <td>31.0</td>\n",
              "      <td>Female</td>\n",
              "      <td>Perth</td>\n",
              "      <td>Western Australia</td>\n",
              "      <td>1.0</td>\n",
              "      <td>2019-10-31</td>\n",
              "      <td>2020-11-28</td>\n",
              "      <td>1</td>\n",
              "      <td>7.946141</td>\n",
              "      <td>4.000000</td>\n",
              "      <td>9.939050</td>\n",
              "      <td>9.744879</td>\n",
              "      <td>8.874676</td>\n",
              "      <td>2.069313</td>\n",
              "    </tr>\n",
              "    <tr>\n",
              "      <th>3</th>\n",
              "      <td>CusID_08577</td>\n",
              "      <td>17.0</td>\n",
              "      <td>Female</td>\n",
              "      <td>Kolkata</td>\n",
              "      <td>West Bengal</td>\n",
              "      <td>7.0</td>\n",
              "      <td>2019-09-05</td>\n",
              "      <td>2021-03-20</td>\n",
              "      <td>0</td>\n",
              "      <td>8.396490</td>\n",
              "      <td>3.636100</td>\n",
              "      <td>4.170301</td>\n",
              "      <td>8.412250</td>\n",
              "      <td>9.389648</td>\n",
              "      <td>3.103196</td>\n",
              "    </tr>\n",
              "    <tr>\n",
              "      <th>4</th>\n",
              "      <td>CusID_08122</td>\n",
              "      <td>39.0</td>\n",
              "      <td>Male</td>\n",
              "      <td>New York City</td>\n",
              "      <td>New York</td>\n",
              "      <td>8.0</td>\n",
              "      <td>2019-07-17</td>\n",
              "      <td>2021-01-19</td>\n",
              "      <td>0</td>\n",
              "      <td>2.443467</td>\n",
              "      <td>9.143171</td>\n",
              "      <td>6.307817</td>\n",
              "      <td>3.224570</td>\n",
              "      <td>1.892078</td>\n",
              "      <td>7.298316</td>\n",
              "    </tr>\n",
              "  </tbody>\n",
              "</table>\n",
              "</div>\n",
              "      <button class=\"colab-df-convert\" onclick=\"convertToInteractive('df-3e5106b3-a23d-4c41-bdd3-c24fc72cb81e')\"\n",
              "              title=\"Convert this dataframe to an interactive table.\"\n",
              "              style=\"display:none;\">\n",
              "        \n",
              "  <svg xmlns=\"http://www.w3.org/2000/svg\" height=\"24px\"viewBox=\"0 0 24 24\"\n",
              "       width=\"24px\">\n",
              "    <path d=\"M0 0h24v24H0V0z\" fill=\"none\"/>\n",
              "    <path d=\"M18.56 5.44l.94 2.06.94-2.06 2.06-.94-2.06-.94-.94-2.06-.94 2.06-2.06.94zm-11 1L8.5 8.5l.94-2.06 2.06-.94-2.06-.94L8.5 2.5l-.94 2.06-2.06.94zm10 10l.94 2.06.94-2.06 2.06-.94-2.06-.94-.94-2.06-.94 2.06-2.06.94z\"/><path d=\"M17.41 7.96l-1.37-1.37c-.4-.4-.92-.59-1.43-.59-.52 0-1.04.2-1.43.59L10.3 9.45l-7.72 7.72c-.78.78-.78 2.05 0 2.83L4 21.41c.39.39.9.59 1.41.59.51 0 1.02-.2 1.41-.59l7.78-7.78 2.81-2.81c.8-.78.8-2.07 0-2.86zM5.41 20L4 18.59l7.72-7.72 1.47 1.35L5.41 20z\"/>\n",
              "  </svg>\n",
              "      </button>\n",
              "      \n",
              "  <style>\n",
              "    .colab-df-container {\n",
              "      display:flex;\n",
              "      flex-wrap:wrap;\n",
              "      gap: 12px;\n",
              "    }\n",
              "\n",
              "    .colab-df-convert {\n",
              "      background-color: #E8F0FE;\n",
              "      border: none;\n",
              "      border-radius: 50%;\n",
              "      cursor: pointer;\n",
              "      display: none;\n",
              "      fill: #1967D2;\n",
              "      height: 32px;\n",
              "      padding: 0 0 0 0;\n",
              "      width: 32px;\n",
              "    }\n",
              "\n",
              "    .colab-df-convert:hover {\n",
              "      background-color: #E2EBFA;\n",
              "      box-shadow: 0px 1px 2px rgba(60, 64, 67, 0.3), 0px 1px 3px 1px rgba(60, 64, 67, 0.15);\n",
              "      fill: #174EA6;\n",
              "    }\n",
              "\n",
              "    [theme=dark] .colab-df-convert {\n",
              "      background-color: #3B4455;\n",
              "      fill: #D2E3FC;\n",
              "    }\n",
              "\n",
              "    [theme=dark] .colab-df-convert:hover {\n",
              "      background-color: #434B5C;\n",
              "      box-shadow: 0px 1px 3px 1px rgba(0, 0, 0, 0.15);\n",
              "      filter: drop-shadow(0px 1px 2px rgba(0, 0, 0, 0.3));\n",
              "      fill: #FFFFFF;\n",
              "    }\n",
              "  </style>\n",
              "\n",
              "      <script>\n",
              "        const buttonEl =\n",
              "          document.querySelector('#df-3e5106b3-a23d-4c41-bdd3-c24fc72cb81e button.colab-df-convert');\n",
              "        buttonEl.style.display =\n",
              "          google.colab.kernel.accessAllowed ? 'block' : 'none';\n",
              "\n",
              "        async function convertToInteractive(key) {\n",
              "          const element = document.querySelector('#df-3e5106b3-a23d-4c41-bdd3-c24fc72cb81e');\n",
              "          const dataTable =\n",
              "            await google.colab.kernel.invokeFunction('convertToInteractive',\n",
              "                                                     [key], {});\n",
              "          if (!dataTable) return;\n",
              "\n",
              "          const docLinkHtml = 'Like what you see? Visit the ' +\n",
              "            '<a target=\"_blank\" href=https://colab.research.google.com/notebooks/data_table.ipynb>data table notebook</a>'\n",
              "            + ' to learn more about interactive tables.';\n",
              "          element.innerHTML = '';\n",
              "          dataTable['output_type'] = 'display_data';\n",
              "          await google.colab.output.renderOutput(dataTable, element);\n",
              "          const docLink = document.createElement('div');\n",
              "          docLink.innerHTML = docLinkHtml;\n",
              "          element.appendChild(docLink);\n",
              "        }\n",
              "      </script>\n",
              "    </div>\n",
              "  </div>\n",
              "  "
            ]
          },
          "metadata": {},
          "execution_count": 113
        }
      ]
    },
    {
      "cell_type": "code",
      "source": [
        "test['CustomerID'].value_counts()"
      ],
      "metadata": {
        "colab": {
          "base_uri": "https://localhost:8080/"
        },
        "id": "D_grsCa2xK5f",
        "outputId": "30baee53-fb52-457a-fae9-866ca98d871c"
      },
      "execution_count": null,
      "outputs": [
        {
          "output_type": "execute_result",
          "data": {
            "text/plain": [
              "CusID_09654    1\n",
              "CusID_06274    1\n",
              "CusID_06352    1\n",
              "CusID_00573    1\n",
              "CusID_04896    1\n",
              "              ..\n",
              "CusID_02360    1\n",
              "CusID_06713    1\n",
              "CusID_03957    1\n",
              "CusID_02970    1\n",
              "CusID_05091    1\n",
              "Name: CustomerID, Length: 1850, dtype: int64"
            ]
          },
          "metadata": {},
          "execution_count": 26
        }
      ]
    },
    {
      "cell_type": "code",
      "source": [
        "train['CustomerID'].value_counts()"
      ],
      "metadata": {
        "colab": {
          "base_uri": "https://localhost:8080/"
        },
        "id": "b5zVm14ZxQeR",
        "outputId": "02d466b0-7220-43b4-87bc-5d855c417320"
      },
      "execution_count": null,
      "outputs": [
        {
          "output_type": "execute_result",
          "data": {
            "text/plain": [
              "CusID_03946    24\n",
              "CusID_06118    23\n",
              "CusID_09342    22\n",
              "CusID_08240    21\n",
              "CusID_01697    21\n",
              "               ..\n",
              "CusID_02985     1\n",
              "CusID_08605     1\n",
              "CusID_05668     1\n",
              "CusID_00827     1\n",
              "CusID_07843     1\n",
              "Name: CustomerID, Length: 8150, dtype: int64"
            ]
          },
          "metadata": {},
          "execution_count": 27
        }
      ]
    },
    {
      "cell_type": "code",
      "source": [
        "test.info()"
      ],
      "metadata": {
        "colab": {
          "base_uri": "https://localhost:8080/"
        },
        "id": "KSRltuKfxn4V",
        "outputId": "ff8bb4b3-e0f4-4c5b-f296-4b4a8bdeaa12"
      },
      "execution_count": null,
      "outputs": [
        {
          "output_type": "stream",
          "name": "stdout",
          "text": [
            "<class 'pandas.core.frame.DataFrame'>\n",
            "RangeIndex: 1850 entries, 0 to 1849\n",
            "Data columns (total 15 columns):\n",
            " #   Column                  Non-Null Count  Dtype  \n",
            "---  ------                  --------------  -----  \n",
            " 0   CustomerID              1850 non-null   object \n",
            " 1   Age                     1819 non-null   float64\n",
            " 2   Gender                  1850 non-null   object \n",
            " 3   City                    1850 non-null   object \n",
            " 4   State                   1850 non-null   object \n",
            " 5   No_of_orders_placed     1778 non-null   float64\n",
            " 6   Sign_up_date            1850 non-null   object \n",
            " 7   Last_order_placed_date  1850 non-null   object \n",
            " 8   is_premium_member       1850 non-null   int64  \n",
            " 9   Women’s_Clothing        1850 non-null   float64\n",
            " 10  Men’s_Clothing          1850 non-null   float64\n",
            " 11  Kid’s_Clothing          1827 non-null   float64\n",
            " 12  Home_&_Living           1827 non-null   float64\n",
            " 13  Beauty                  1850 non-null   float64\n",
            " 14  Electronics             1850 non-null   float64\n",
            "dtypes: float64(8), int64(1), object(6)\n",
            "memory usage: 216.9+ KB\n"
          ]
        }
      ]
    },
    {
      "cell_type": "code",
      "source": [
        "train.shape"
      ],
      "metadata": {
        "colab": {
          "base_uri": "https://localhost:8080/"
        },
        "id": "r2rlvUQC7MJi",
        "outputId": "f824b2c7-0080-462c-dcb6-5dc7162a2d98"
      },
      "execution_count": null,
      "outputs": [
        {
          "output_type": "execute_result",
          "data": {
            "text/plain": [
              "(15150, 17)"
            ]
          },
          "metadata": {},
          "execution_count": 29
        }
      ]
    },
    {
      "cell_type": "code",
      "source": [
        "train1=pd.DataFrame(train.groupby('CustomerID').mean())"
      ],
      "metadata": {
        "id": "1_51kMcAy5gT"
      },
      "execution_count": null,
      "outputs": []
    },
    {
      "cell_type": "code",
      "source": [
        "train1.index"
      ],
      "metadata": {
        "colab": {
          "base_uri": "https://localhost:8080/"
        },
        "id": "jTHW4jSZz-VM",
        "outputId": "1a6d53ad-0e66-41b5-8967-addd3c843376"
      },
      "execution_count": null,
      "outputs": [
        {
          "output_type": "execute_result",
          "data": {
            "text/plain": [
              "Index(['CusID_00000', 'CusID_00001', 'CusID_00002', 'CusID_00003',\n",
              "       'CusID_00005', 'CusID_00007', 'CusID_00008', 'CusID_00010',\n",
              "       'CusID_00011', 'CusID_00012',\n",
              "       ...\n",
              "       'CusID_09989', 'CusID_09991', 'CusID_09992', 'CusID_09993',\n",
              "       'CusID_09994', 'CusID_09995', 'CusID_09996', 'CusID_09997',\n",
              "       'CusID_09998', 'CusID_09999'],\n",
              "      dtype='object', name='CustomerID', length=8150)"
            ]
          },
          "metadata": {},
          "execution_count": 34
        }
      ]
    },
    {
      "cell_type": "code",
      "source": [
        "train1.columns"
      ],
      "metadata": {
        "colab": {
          "base_uri": "https://localhost:8080/"
        },
        "id": "bEJV05Vs0mgl",
        "outputId": "b9b17537-e5ae-4f75-a70b-f4353e9113cc"
      },
      "execution_count": null,
      "outputs": [
        {
          "output_type": "execute_result",
          "data": {
            "text/plain": [
              "Index(['Age', 'Gender', 'City', 'State', 'No_of_orders_placed',\n",
              "       'is_premium_member', 'Women’s_Clothing', 'Men’s_Clothing',\n",
              "       'Kid’s_Clothing', 'Home_&_Living', 'Beauty', 'Electronics',\n",
              "       'Preferred_Theme', 'Last_order_year', 'Last_order_Month',\n",
              "       'Last_order_day'],\n",
              "      dtype='object')"
            ]
          },
          "metadata": {},
          "execution_count": 35
        }
      ]
    },
    {
      "cell_type": "code",
      "source": [
        "train1.info()"
      ],
      "metadata": {
        "colab": {
          "base_uri": "https://localhost:8080/"
        },
        "id": "CzD5-MpG6QX1",
        "outputId": "e2dbdaa4-80ef-4b71-84d9-46c53075bb3a"
      },
      "execution_count": null,
      "outputs": [
        {
          "output_type": "stream",
          "name": "stdout",
          "text": [
            "<class 'pandas.core.frame.DataFrame'>\n",
            "Index: 8150 entries, CusID_00000 to CusID_09999\n",
            "Data columns (total 16 columns):\n",
            " #   Column               Non-Null Count  Dtype\n",
            "---  ------               --------------  -----\n",
            " 0   Age                  8150 non-null   int64\n",
            " 1   Gender               8150 non-null   int64\n",
            " 2   City                 8150 non-null   int64\n",
            " 3   State                8150 non-null   int64\n",
            " 4   No_of_orders_placed  8150 non-null   int64\n",
            " 5   is_premium_member    8150 non-null   int64\n",
            " 6   Women’s_Clothing     8150 non-null   int64\n",
            " 7   Men’s_Clothing       8150 non-null   int64\n",
            " 8   Kid’s_Clothing       8150 non-null   int64\n",
            " 9   Home_&_Living        8150 non-null   int64\n",
            " 10  Beauty               8150 non-null   int64\n",
            " 11  Electronics          8150 non-null   int64\n",
            " 12  Preferred_Theme      8150 non-null   int64\n",
            " 13  Last_order_year      8150 non-null   int64\n",
            " 14  Last_order_Month     8150 non-null   int64\n",
            " 15  Last_order_day       8150 non-null   int64\n",
            "dtypes: int64(16)\n",
            "memory usage: 1.3+ MB\n"
          ]
        }
      ]
    },
    {
      "cell_type": "code",
      "source": [
        "cols=list(train1.columns[train1.dtypes==\"float64\"])\n",
        "cols"
      ],
      "metadata": {
        "colab": {
          "base_uri": "https://localhost:8080/"
        },
        "id": "u1DFVr01_DsW",
        "outputId": "0aa65b36-a1a0-4a75-c8be-d96a8c7bba32"
      },
      "execution_count": null,
      "outputs": [
        {
          "output_type": "execute_result",
          "data": {
            "text/plain": [
              "['Age',\n",
              " 'Gender',\n",
              " 'City',\n",
              " 'State',\n",
              " 'No_of_orders_placed',\n",
              " 'is_premium_member',\n",
              " 'Women’s_Clothing',\n",
              " 'Men’s_Clothing',\n",
              " 'Kid’s_Clothing',\n",
              " 'Home_&_Living',\n",
              " 'Beauty',\n",
              " 'Electronics',\n",
              " 'Preferred_Theme',\n",
              " 'Last_order_year',\n",
              " 'Last_order_Month',\n",
              " 'Last_order_day']"
            ]
          },
          "metadata": {},
          "execution_count": 48
        }
      ]
    },
    {
      "cell_type": "code",
      "source": [
        "train1[cols]=train1[cols].astype(int)"
      ],
      "metadata": {
        "id": "9Tiyvu9JA4yb"
      },
      "execution_count": null,
      "outputs": []
    },
    {
      "cell_type": "code",
      "source": [
        "train1['Preferred_Theme'].astype(int)"
      ],
      "metadata": {
        "colab": {
          "base_uri": "https://localhost:8080/"
        },
        "id": "j7w2UAZ34TMQ",
        "outputId": "9956312e-aa06-4cd6-879f-b09f666c809d"
      },
      "execution_count": null,
      "outputs": [
        {
          "output_type": "execute_result",
          "data": {
            "text/plain": [
              "CustomerID\n",
              "CusID_00000    0\n",
              "CusID_00001    1\n",
              "CusID_00002    0\n",
              "CusID_00003    1\n",
              "CusID_00005    0\n",
              "              ..\n",
              "CusID_09995    0\n",
              "CusID_09996    0\n",
              "CusID_09997    1\n",
              "CusID_09998    0\n",
              "CusID_09999    0\n",
              "Name: Preferred_Theme, Length: 8150, dtype: int64"
            ]
          },
          "metadata": {},
          "execution_count": 39
        }
      ]
    },
    {
      "cell_type": "code",
      "source": [
        ""
      ],
      "metadata": {
        "id": "7Nwk5gVL4ocq"
      },
      "execution_count": null,
      "outputs": []
    },
    {
      "cell_type": "code",
      "source": [
        "X=train1.drop([\"Preferred_Theme\"],axis=1)\n",
        "y=train1['Preferred_Theme']"
      ],
      "metadata": {
        "id": "wLTnkDGK0zls"
      },
      "execution_count": null,
      "outputs": []
    },
    {
      "cell_type": "code",
      "source": [
        "from sklearn.model_selection import train_test_split\n"
      ],
      "metadata": {
        "id": "JkqmiYuu1QJx"
      },
      "execution_count": null,
      "outputs": []
    },
    {
      "cell_type": "code",
      "source": [
        "X_train,X_test,y_train,y_test=train_test_split(X,y,train_size=0.3)"
      ],
      "metadata": {
        "id": "5jfYg82p1iyG"
      },
      "execution_count": null,
      "outputs": []
    },
    {
      "cell_type": "code",
      "source": [
        "from sklearn.tree import DecisionTreeClassifier\n",
        "from sklearn.ensemble import RandomForestClassifier\n",
        "from sklearn.metrics import f1_score, confusion_matrix,classification_report"
      ],
      "metadata": {
        "id": "-ewx3xzd1_lo"
      },
      "execution_count": null,
      "outputs": []
    },
    {
      "cell_type": "code",
      "source": [
        "clf = DecisionTreeClassifier(random_state=123)\n",
        "clf.fit(X_train,y_train)\n",
        "y_pred_train = clf.predict(X_train)\n",
        "y_pred = clf.predict(X_test)"
      ],
      "metadata": {
        "id": "q7z6q6xy2rf3"
      },
      "execution_count": null,
      "outputs": []
    },
    {
      "cell_type": "code",
      "source": [
        "f1_score(y_test, y_pred)"
      ],
      "metadata": {
        "colab": {
          "base_uri": "https://localhost:8080/"
        },
        "id": "bc4dF7uj2roK",
        "outputId": "613e8655-cdfa-4e4a-823a-8299f8169b83"
      },
      "execution_count": null,
      "outputs": [
        {
          "output_type": "execute_result",
          "data": {
            "text/plain": [
              "0.6215864759427828"
            ]
          },
          "metadata": {},
          "execution_count": 57
        }
      ]
    },
    {
      "cell_type": "code",
      "source": [
        "print(classification_report(y_test, y_pred))"
      ],
      "metadata": {
        "colab": {
          "base_uri": "https://localhost:8080/"
        },
        "id": "bbH2bRKJ2rrM",
        "outputId": "7be5d3eb-fe42-4bb6-b5f2-505f85d1a0a5"
      },
      "execution_count": null,
      "outputs": [
        {
          "output_type": "stream",
          "name": "stdout",
          "text": [
            "              precision    recall  f1-score   support\n",
            "\n",
            "           0       0.67      0.65      0.66      3049\n",
            "           1       0.61      0.63      0.62      2656\n",
            "\n",
            "    accuracy                           0.64      5705\n",
            "   macro avg       0.64      0.64      0.64      5705\n",
            "weighted avg       0.64      0.64      0.64      5705\n",
            "\n"
          ]
        }
      ]
    },
    {
      "cell_type": "code",
      "source": [
        "rf = RandomForestClassifier(max_depth=8,class_weight = \"balanced\")\n",
        "rf.fit(X_train, y_train)\n",
        "y_predict_rf= rf.predict(X_test)"
      ],
      "metadata": {
        "id": "RITvkMRY4zBM"
      },
      "execution_count": null,
      "outputs": []
    },
    {
      "cell_type": "code",
      "source": [
        "f1_score(y_test, y_predict_rf)"
      ],
      "metadata": {
        "colab": {
          "base_uri": "https://localhost:8080/"
        },
        "id": "tO_f1_B042cy",
        "outputId": "3e7235d9-b6dc-4d88-d699-3a9ff0d0c33d"
      },
      "execution_count": null,
      "outputs": [
        {
          "output_type": "execute_result",
          "data": {
            "text/plain": [
              "0.7080083697926574"
            ]
          },
          "metadata": {},
          "execution_count": 60
        }
      ]
    },
    {
      "cell_type": "code",
      "source": [
        "print(classification_report(y_test, y_predict_rf))"
      ],
      "metadata": {
        "colab": {
          "base_uri": "https://localhost:8080/"
        },
        "id": "R5I1VUij46R8",
        "outputId": "75b566a4-95f0-4024-c2d5-606b8d7d4ce2"
      },
      "execution_count": null,
      "outputs": [
        {
          "output_type": "stream",
          "name": "stdout",
          "text": [
            "              precision    recall  f1-score   support\n",
            "\n",
            "           0       0.74      0.76      0.75      3049\n",
            "           1       0.72      0.70      0.71      2656\n",
            "\n",
            "    accuracy                           0.73      5705\n",
            "   macro avg       0.73      0.73      0.73      5705\n",
            "weighted avg       0.73      0.73      0.73      5705\n",
            "\n"
          ]
        }
      ]
    },
    {
      "cell_type": "code",
      "source": [
        "test.isnull().sum()"
      ],
      "metadata": {
        "colab": {
          "base_uri": "https://localhost:8080/"
        },
        "id": "n66hQDqMB-59",
        "outputId": "959d471d-05fc-4e63-c1b5-159bcc44b59c"
      },
      "execution_count": null,
      "outputs": [
        {
          "output_type": "execute_result",
          "data": {
            "text/plain": [
              "CustomerID                 0\n",
              "Age                       31\n",
              "Gender                     0\n",
              "City                       0\n",
              "State                      0\n",
              "No_of_orders_placed       72\n",
              "Sign_up_date               0\n",
              "Last_order_placed_date     0\n",
              "is_premium_member          0\n",
              "Women’s_Clothing           0\n",
              "Men’s_Clothing             0\n",
              "Kid’s_Clothing            23\n",
              "Home_&_Living             23\n",
              "Beauty                     0\n",
              "Electronics                0\n",
              "dtype: int64"
            ]
          },
          "metadata": {},
          "execution_count": 114
        }
      ]
    },
    {
      "cell_type": "code",
      "source": [
        "test['Age'].fillna(test['Age'].mode()[0], inplace=True)\n",
        "\n",
        "test['No_of_orders_placed'].fillna(test['No_of_orders_placed'].mode()[0], inplace=True)\n",
        "\n",
        "test['Kid’s_Clothing'].fillna(test['Kid’s_Clothing'].mode()[0], inplace=True)\n",
        "\n",
        "test['Home_&_Living'].fillna(test['Home_&_Living'].mode()[0], inplace=True)"
      ],
      "metadata": {
        "id": "WFEZlScCCUkj"
      },
      "execution_count": null,
      "outputs": []
    },
    {
      "cell_type": "code",
      "source": [
        "test['Last_order_placed_date']=test['Last_order_placed_date'].astype('datetime64[ns]')"
      ],
      "metadata": {
        "id": "d7ND5PiECj49"
      },
      "execution_count": null,
      "outputs": []
    },
    {
      "cell_type": "code",
      "source": [
        "from sklearn.preprocessing import LabelEncoder\n",
        "# Use `LabelEncoder` to encode labels with value between 0 and n_classes-1.\n",
        "#City\n",
        "le = LabelEncoder()\n",
        "test['City'] = le.fit_transform(test['City'])\n",
        "#State\n",
        "test['State'] = le.fit_transform(test['State'])\n",
        "#Gender\n",
        "test['Gender'] = le.fit_transform(test['Gender'])"
      ],
      "metadata": {
        "id": "d_Ka6cczCj8h"
      },
      "execution_count": null,
      "outputs": []
    },
    {
      "cell_type": "code",
      "source": [
        "test=test.drop(['Sign_up_date'],axis=1)"
      ],
      "metadata": {
        "id": "S2rBVM6rDMEr"
      },
      "execution_count": null,
      "outputs": []
    },
    {
      "cell_type": "code",
      "source": [
        "test['Last_order_placed_date']=test['Last_order_placed_date'].astype('datetime64[ns]')"
      ],
      "metadata": {
        "id": "loivWqDIFHNi"
      },
      "execution_count": null,
      "outputs": []
    },
    {
      "cell_type": "code",
      "source": [
        "test['Last_order_year']=test['Last_order_placed_date'].dt.year\n",
        "test['Last_order_Month']=test['Last_order_placed_date'].dt.month\n",
        "test['Last_order_day']=test['Last_order_placed_date'].dt.day"
      ],
      "metadata": {
        "id": "r9cnDZwrDMUX"
      },
      "execution_count": null,
      "outputs": []
    },
    {
      "cell_type": "code",
      "source": [
        "test=test.drop(['Last_order_placed_date'],axis=1)"
      ],
      "metadata": {
        "id": "OQAg9BFuFTGt"
      },
      "execution_count": null,
      "outputs": []
    },
    {
      "cell_type": "code",
      "source": [
        "test=test.set_index('CustomerID')"
      ],
      "metadata": {
        "id": "IgLzn0GUEEUD"
      },
      "execution_count": null,
      "outputs": []
    },
    {
      "cell_type": "code",
      "source": [
        "test1=rf.predict(test)"
      ],
      "metadata": {
        "id": "prh1pXgpEOTB"
      },
      "execution_count": null,
      "outputs": []
    },
    {
      "cell_type": "code",
      "source": [
        "test['Preferred_Theme']=test1"
      ],
      "metadata": {
        "id": "YD-ZngqAFl6A"
      },
      "execution_count": null,
      "outputs": []
    },
    {
      "cell_type": "code",
      "source": [
        "test.head()"
      ],
      "metadata": {
        "colab": {
          "base_uri": "https://localhost:8080/",
          "height": 302
        },
        "id": "8xnemmEdFY6O",
        "outputId": "10dc0e77-ebe8-4269-f4bc-5f2cd2455209"
      },
      "execution_count": null,
      "outputs": [
        {
          "output_type": "execute_result",
          "data": {
            "text/plain": [
              "              Age  Gender  City  State  No_of_orders_placed  \\\n",
              "CustomerID                                                    \n",
              "CusID_09654  20.0       0    21      2                  5.0   \n",
              "CusID_09727  25.0       2     3      5                 11.0   \n",
              "CusID_07391  31.0       0    15     20                  1.0   \n",
              "CusID_08577  17.0       0     7     19                  7.0   \n",
              "CusID_08122  39.0       1    13     11                  8.0   \n",
              "\n",
              "             is_premium_member  Women’s_Clothing  Men’s_Clothing  \\\n",
              "CustomerID                                                         \n",
              "CusID_09654                  0          4.000000        3.043023   \n",
              "CusID_09727                  1          4.379066        5.819171   \n",
              "CusID_07391                  1          7.946141        4.000000   \n",
              "CusID_08577                  0          8.396490        3.636100   \n",
              "CusID_08122                  0          2.443467        9.143171   \n",
              "\n",
              "             Kid’s_Clothing  Home_&_Living    Beauty  Electronics  \\\n",
              "CustomerID                                                          \n",
              "CusID_09654        6.231789       8.561328  9.893144     1.197478   \n",
              "CusID_09727        6.923614       4.529057  5.105539     4.608664   \n",
              "CusID_07391        9.939050       9.744879  8.874676     2.069313   \n",
              "CusID_08577        4.170301       8.412250  9.389648     3.103196   \n",
              "CusID_08122        6.307817       3.224570  1.892078     7.298316   \n",
              "\n",
              "             Last_order_year  Last_order_Month  Last_order_day Preferred_Theme  \n",
              "CustomerID                                                                      \n",
              "CusID_09654             2020                 3              22          New_UI  \n",
              "CusID_09727             2021                 8              22          Old_UI  \n",
              "CusID_07391             2020                11              28          Old_UI  \n",
              "CusID_08577             2021                 3              20          Old_UI  \n",
              "CusID_08122             2021                 1              19          New_UI  "
            ],
            "text/html": [
              "\n",
              "  <div id=\"df-a6cea7e6-a958-42ce-86a6-2831c4575acc\">\n",
              "    <div class=\"colab-df-container\">\n",
              "      <div>\n",
              "<style scoped>\n",
              "    .dataframe tbody tr th:only-of-type {\n",
              "        vertical-align: middle;\n",
              "    }\n",
              "\n",
              "    .dataframe tbody tr th {\n",
              "        vertical-align: top;\n",
              "    }\n",
              "\n",
              "    .dataframe thead th {\n",
              "        text-align: right;\n",
              "    }\n",
              "</style>\n",
              "<table border=\"1\" class=\"dataframe\">\n",
              "  <thead>\n",
              "    <tr style=\"text-align: right;\">\n",
              "      <th></th>\n",
              "      <th>Age</th>\n",
              "      <th>Gender</th>\n",
              "      <th>City</th>\n",
              "      <th>State</th>\n",
              "      <th>No_of_orders_placed</th>\n",
              "      <th>is_premium_member</th>\n",
              "      <th>Women’s_Clothing</th>\n",
              "      <th>Men’s_Clothing</th>\n",
              "      <th>Kid’s_Clothing</th>\n",
              "      <th>Home_&amp;_Living</th>\n",
              "      <th>Beauty</th>\n",
              "      <th>Electronics</th>\n",
              "      <th>Last_order_year</th>\n",
              "      <th>Last_order_Month</th>\n",
              "      <th>Last_order_day</th>\n",
              "      <th>Preferred_Theme</th>\n",
              "    </tr>\n",
              "    <tr>\n",
              "      <th>CustomerID</th>\n",
              "      <th></th>\n",
              "      <th></th>\n",
              "      <th></th>\n",
              "      <th></th>\n",
              "      <th></th>\n",
              "      <th></th>\n",
              "      <th></th>\n",
              "      <th></th>\n",
              "      <th></th>\n",
              "      <th></th>\n",
              "      <th></th>\n",
              "      <th></th>\n",
              "      <th></th>\n",
              "      <th></th>\n",
              "      <th></th>\n",
              "      <th></th>\n",
              "    </tr>\n",
              "  </thead>\n",
              "  <tbody>\n",
              "    <tr>\n",
              "      <th>CusID_09654</th>\n",
              "      <td>20.0</td>\n",
              "      <td>0</td>\n",
              "      <td>21</td>\n",
              "      <td>2</td>\n",
              "      <td>5.0</td>\n",
              "      <td>0</td>\n",
              "      <td>4.000000</td>\n",
              "      <td>3.043023</td>\n",
              "      <td>6.231789</td>\n",
              "      <td>8.561328</td>\n",
              "      <td>9.893144</td>\n",
              "      <td>1.197478</td>\n",
              "      <td>2020</td>\n",
              "      <td>3</td>\n",
              "      <td>22</td>\n",
              "      <td>New_UI</td>\n",
              "    </tr>\n",
              "    <tr>\n",
              "      <th>CusID_09727</th>\n",
              "      <td>25.0</td>\n",
              "      <td>2</td>\n",
              "      <td>3</td>\n",
              "      <td>5</td>\n",
              "      <td>11.0</td>\n",
              "      <td>1</td>\n",
              "      <td>4.379066</td>\n",
              "      <td>5.819171</td>\n",
              "      <td>6.923614</td>\n",
              "      <td>4.529057</td>\n",
              "      <td>5.105539</td>\n",
              "      <td>4.608664</td>\n",
              "      <td>2021</td>\n",
              "      <td>8</td>\n",
              "      <td>22</td>\n",
              "      <td>Old_UI</td>\n",
              "    </tr>\n",
              "    <tr>\n",
              "      <th>CusID_07391</th>\n",
              "      <td>31.0</td>\n",
              "      <td>0</td>\n",
              "      <td>15</td>\n",
              "      <td>20</td>\n",
              "      <td>1.0</td>\n",
              "      <td>1</td>\n",
              "      <td>7.946141</td>\n",
              "      <td>4.000000</td>\n",
              "      <td>9.939050</td>\n",
              "      <td>9.744879</td>\n",
              "      <td>8.874676</td>\n",
              "      <td>2.069313</td>\n",
              "      <td>2020</td>\n",
              "      <td>11</td>\n",
              "      <td>28</td>\n",
              "      <td>Old_UI</td>\n",
              "    </tr>\n",
              "    <tr>\n",
              "      <th>CusID_08577</th>\n",
              "      <td>17.0</td>\n",
              "      <td>0</td>\n",
              "      <td>7</td>\n",
              "      <td>19</td>\n",
              "      <td>7.0</td>\n",
              "      <td>0</td>\n",
              "      <td>8.396490</td>\n",
              "      <td>3.636100</td>\n",
              "      <td>4.170301</td>\n",
              "      <td>8.412250</td>\n",
              "      <td>9.389648</td>\n",
              "      <td>3.103196</td>\n",
              "      <td>2021</td>\n",
              "      <td>3</td>\n",
              "      <td>20</td>\n",
              "      <td>Old_UI</td>\n",
              "    </tr>\n",
              "    <tr>\n",
              "      <th>CusID_08122</th>\n",
              "      <td>39.0</td>\n",
              "      <td>1</td>\n",
              "      <td>13</td>\n",
              "      <td>11</td>\n",
              "      <td>8.0</td>\n",
              "      <td>0</td>\n",
              "      <td>2.443467</td>\n",
              "      <td>9.143171</td>\n",
              "      <td>6.307817</td>\n",
              "      <td>3.224570</td>\n",
              "      <td>1.892078</td>\n",
              "      <td>7.298316</td>\n",
              "      <td>2021</td>\n",
              "      <td>1</td>\n",
              "      <td>19</td>\n",
              "      <td>New_UI</td>\n",
              "    </tr>\n",
              "  </tbody>\n",
              "</table>\n",
              "</div>\n",
              "      <button class=\"colab-df-convert\" onclick=\"convertToInteractive('df-a6cea7e6-a958-42ce-86a6-2831c4575acc')\"\n",
              "              title=\"Convert this dataframe to an interactive table.\"\n",
              "              style=\"display:none;\">\n",
              "        \n",
              "  <svg xmlns=\"http://www.w3.org/2000/svg\" height=\"24px\"viewBox=\"0 0 24 24\"\n",
              "       width=\"24px\">\n",
              "    <path d=\"M0 0h24v24H0V0z\" fill=\"none\"/>\n",
              "    <path d=\"M18.56 5.44l.94 2.06.94-2.06 2.06-.94-2.06-.94-.94-2.06-.94 2.06-2.06.94zm-11 1L8.5 8.5l.94-2.06 2.06-.94-2.06-.94L8.5 2.5l-.94 2.06-2.06.94zm10 10l.94 2.06.94-2.06 2.06-.94-2.06-.94-.94-2.06-.94 2.06-2.06.94z\"/><path d=\"M17.41 7.96l-1.37-1.37c-.4-.4-.92-.59-1.43-.59-.52 0-1.04.2-1.43.59L10.3 9.45l-7.72 7.72c-.78.78-.78 2.05 0 2.83L4 21.41c.39.39.9.59 1.41.59.51 0 1.02-.2 1.41-.59l7.78-7.78 2.81-2.81c.8-.78.8-2.07 0-2.86zM5.41 20L4 18.59l7.72-7.72 1.47 1.35L5.41 20z\"/>\n",
              "  </svg>\n",
              "      </button>\n",
              "      \n",
              "  <style>\n",
              "    .colab-df-container {\n",
              "      display:flex;\n",
              "      flex-wrap:wrap;\n",
              "      gap: 12px;\n",
              "    }\n",
              "\n",
              "    .colab-df-convert {\n",
              "      background-color: #E8F0FE;\n",
              "      border: none;\n",
              "      border-radius: 50%;\n",
              "      cursor: pointer;\n",
              "      display: none;\n",
              "      fill: #1967D2;\n",
              "      height: 32px;\n",
              "      padding: 0 0 0 0;\n",
              "      width: 32px;\n",
              "    }\n",
              "\n",
              "    .colab-df-convert:hover {\n",
              "      background-color: #E2EBFA;\n",
              "      box-shadow: 0px 1px 2px rgba(60, 64, 67, 0.3), 0px 1px 3px 1px rgba(60, 64, 67, 0.15);\n",
              "      fill: #174EA6;\n",
              "    }\n",
              "\n",
              "    [theme=dark] .colab-df-convert {\n",
              "      background-color: #3B4455;\n",
              "      fill: #D2E3FC;\n",
              "    }\n",
              "\n",
              "    [theme=dark] .colab-df-convert:hover {\n",
              "      background-color: #434B5C;\n",
              "      box-shadow: 0px 1px 3px 1px rgba(0, 0, 0, 0.15);\n",
              "      filter: drop-shadow(0px 1px 2px rgba(0, 0, 0, 0.3));\n",
              "      fill: #FFFFFF;\n",
              "    }\n",
              "  </style>\n",
              "\n",
              "      <script>\n",
              "        const buttonEl =\n",
              "          document.querySelector('#df-a6cea7e6-a958-42ce-86a6-2831c4575acc button.colab-df-convert');\n",
              "        buttonEl.style.display =\n",
              "          google.colab.kernel.accessAllowed ? 'block' : 'none';\n",
              "\n",
              "        async function convertToInteractive(key) {\n",
              "          const element = document.querySelector('#df-a6cea7e6-a958-42ce-86a6-2831c4575acc');\n",
              "          const dataTable =\n",
              "            await google.colab.kernel.invokeFunction('convertToInteractive',\n",
              "                                                     [key], {});\n",
              "          if (!dataTable) return;\n",
              "\n",
              "          const docLinkHtml = 'Like what you see? Visit the ' +\n",
              "            '<a target=\"_blank\" href=https://colab.research.google.com/notebooks/data_table.ipynb>data table notebook</a>'\n",
              "            + ' to learn more about interactive tables.';\n",
              "          element.innerHTML = '';\n",
              "          dataTable['output_type'] = 'display_data';\n",
              "          await google.colab.output.renderOutput(dataTable, element);\n",
              "          const docLink = document.createElement('div');\n",
              "          docLink.innerHTML = docLinkHtml;\n",
              "          element.appendChild(docLink);\n",
              "        }\n",
              "      </script>\n",
              "    </div>\n",
              "  </div>\n",
              "  "
            ]
          },
          "metadata": {},
          "execution_count": 127
        }
      ]
    },
    {
      "cell_type": "code",
      "source": [
        "test[\"Preferred_Theme\"].to_csv(\"final.csv\")"
      ],
      "metadata": {
        "id": "FRXQkfDdGFWe"
      },
      "execution_count": null,
      "outputs": []
    },
    {
      "cell_type": "code",
      "source": [
        "type(test['Preferred_Theme'])"
      ],
      "metadata": {
        "colab": {
          "base_uri": "https://localhost:8080/"
        },
        "id": "MC9kDPxbGWOb",
        "outputId": "3cc55f9a-e21d-4c3b-fe21-610079518ab3"
      },
      "execution_count": null,
      "outputs": [
        {
          "output_type": "execute_result",
          "data": {
            "text/plain": [
              "pandas.core.series.Series"
            ]
          },
          "metadata": {},
          "execution_count": 98
        }
      ]
    },
    {
      "cell_type": "code",
      "source": [
        "test.info()"
      ],
      "metadata": {
        "colab": {
          "base_uri": "https://localhost:8080/"
        },
        "id": "FVDUC7utHIxZ",
        "outputId": "167e292b-d2e1-4170-a1f4-85c2ff9ccd42"
      },
      "execution_count": null,
      "outputs": [
        {
          "output_type": "stream",
          "name": "stdout",
          "text": [
            "<class 'pandas.core.frame.DataFrame'>\n",
            "Index: 1850 entries, CusID_09654 to CusID_05091\n",
            "Data columns (total 16 columns):\n",
            " #   Column               Non-Null Count  Dtype  \n",
            "---  ------               --------------  -----  \n",
            " 0   Age                  1850 non-null   float64\n",
            " 1   Gender               1850 non-null   int64  \n",
            " 2   City                 1850 non-null   int64  \n",
            " 3   State                1850 non-null   int64  \n",
            " 4   No_of_orders_placed  1850 non-null   float64\n",
            " 5   is_premium_member    1850 non-null   int64  \n",
            " 6   Women’s_Clothing     1850 non-null   float64\n",
            " 7   Men’s_Clothing       1850 non-null   float64\n",
            " 8   Kid’s_Clothing       1850 non-null   float64\n",
            " 9   Home_&_Living        1850 non-null   float64\n",
            " 10  Beauty               1850 non-null   float64\n",
            " 11  Electronics          1850 non-null   float64\n",
            " 12  Last_order_year      1850 non-null   int64  \n",
            " 13  Last_order_Month     1850 non-null   int64  \n",
            " 14  Last_order_day       1850 non-null   int64  \n",
            " 15  Preferred_Theme      1850 non-null   int64  \n",
            "dtypes: float64(8), int64(8)\n",
            "memory usage: 310.2+ KB\n"
          ]
        }
      ]
    },
    {
      "cell_type": "code",
      "source": [
        "test.isnull().sum()"
      ],
      "metadata": {
        "colab": {
          "base_uri": "https://localhost:8080/"
        },
        "id": "n1agx-5vHhGe",
        "outputId": "c69d19bb-9751-4acb-a02e-a73816f033a2"
      },
      "execution_count": null,
      "outputs": [
        {
          "output_type": "execute_result",
          "data": {
            "text/plain": [
              "Age                    0\n",
              "Gender                 0\n",
              "City                   0\n",
              "State                  0\n",
              "No_of_orders_placed    0\n",
              "is_premium_member      0\n",
              "Women’s_Clothing       0\n",
              "Men’s_Clothing         0\n",
              "Kid’s_Clothing         0\n",
              "Home_&_Living          0\n",
              "Beauty                 0\n",
              "Electronics            0\n",
              "Last_order_year        0\n",
              "Last_order_Month       0\n",
              "Last_order_day         0\n",
              "Preferred_Theme        0\n",
              "dtype: int64"
            ]
          },
          "metadata": {},
          "execution_count": 100
        }
      ]
    },
    {
      "cell_type": "code",
      "source": [
        "test.shape"
      ],
      "metadata": {
        "colab": {
          "base_uri": "https://localhost:8080/"
        },
        "id": "8ZACxAwiH00O",
        "outputId": "d0aae883-b5d1-4762-a334-71512277f15e"
      },
      "execution_count": null,
      "outputs": [
        {
          "output_type": "execute_result",
          "data": {
            "text/plain": [
              "(1850, 16)"
            ]
          },
          "metadata": {},
          "execution_count": 101
        }
      ]
    },
    {
      "cell_type": "code",
      "source": [
        "test['Preferred_Theme']=test['Preferred_Theme'].map({0:'Old_UI',1:'New_UI'})"
      ],
      "metadata": {
        "id": "gmLermueIHeQ"
      },
      "execution_count": null,
      "outputs": []
    }
  ]
}